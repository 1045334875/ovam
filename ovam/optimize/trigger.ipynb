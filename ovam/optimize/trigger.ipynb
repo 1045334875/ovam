{
 "cells": [
  {
   "cell_type": "code",
   "execution_count": 23,
   "metadata": {},
   "outputs": [
    {
     "name": "stderr",
     "output_type": "stream",
     "text": [
      "The config attributes {'dropout': 0.0} were passed to UNet2DConditionModel, but are not expected and will be ignored. Please verify your config.json configuration file.\n",
      "Loading pipeline components...:   0%|          | 0/7 [00:00<?, ?it/s]`text_config_dict` is provided which will be used to initialize `CLIPTextConfig`. The value `text_config[\"id2label\"]` will be overriden.\n",
      "Loading pipeline components...: 100%|██████████| 7/7 [00:02<00:00,  2.82it/s]\n"
     ]
    }
   ],
   "source": [
    "from typing import TYPE_CHECKING, Callable, Optional, Union\n",
    "from typing import Any, Optional, Tuple, Union\n",
    "import torch\n",
    "import torch.nn as nn\n",
    "import torch.optim as optim\n",
    "import numpy as np\n",
    "import matplotlib.pyplot as plt\n",
    "import os\n",
    "import sys\n",
    "sys.path.append(\"/home/tangyao/ovam/ovam\")\n",
    "sys.path.append(\"/home/tangyao/ovam/ovam/utils\")\n",
    "os.environ['CUDA_LAUNCH_BLOCKING'] = '1'\n",
    "from PIL import Image\n",
    "# Import the OVAM library\n",
    "from ovam import StableDiffusionHooker # actually is StableDiffusionHookerSA\n",
    "from ovam.utils import set_seed, get_device\n",
    "from ovam.optimize import optimize_embedding\n",
    "from ovam.utils.dcrf import densecrf\n",
    "# from diffusers import StableDiffusionPipeline\n",
    "from transformers import CLIPTextModel, CLIPTokenizer\n",
    "from diffusers import AutoencoderKL, DDPMScheduler, StableDiffusionPipeline, UNet2DConditionModel\n",
    "\n",
    "if TYPE_CHECKING:\n",
    "    from ..base.daam_module import DAAMModule\n",
    "\n",
    "\n",
    "\n",
    "# -----------------------------Prepare model-----------------------------------\n",
    "# args = parse_args()\n",
    "pretrained_model_name_or_path=\"/home/data/huggingface/Pretrained_model_files/sd_v1-4\"\n",
    "pre_unet_path=\"/home/tangyao/BadT2I/laion_pixel_boya_unet_bsz4_step4_sks\"\n",
    "revision=None\n",
    "vae = AutoencoderKL.from_pretrained(\n",
    "        pretrained_model_name_or_path,\n",
    "        subfolder=\"vae\",\n",
    "        revision=revision,\n",
    "        low_cpu_mem_usage=False,\n",
    "    )\n",
    "text_encoder = CLIPTextModel.from_pretrained(\n",
    "        pretrained_model_name_or_path,\n",
    "        subfolder=\"text_encoder\",\n",
    "        revision=revision,\n",
    "        low_cpu_mem_usage=True,\n",
    "    )\n",
    "tokenizer = CLIPTokenizer.from_pretrained(\n",
    "        pretrained_model_name_or_path, subfolder=\"tokenizer\", revision=revision, low_cpu_mem_usage=True,\n",
    "    )\n",
    "noise_scheduler = DDPMScheduler.from_pretrained(pretrained_model_name_or_path, subfolder=\"scheduler\",\n",
    "                                                    low_cpu_mem_usage=False, )\n",
    "unet = UNet2DConditionModel.from_pretrained(\n",
    "        pre_unet_path,\n",
    "        revision=revision,\n",
    "        low_cpu_mem_usage=False,\n",
    "    )\n",
    "# Unet2D conditionModel 可以直接加timestep\n",
    "pipe = StableDiffusionPipeline.from_pretrained(\n",
    "            pretrained_model_name_or_path,\n",
    "            text_encoder=text_encoder,\n",
    "            vae=vae,\n",
    "            unet=unet,\n",
    "            revision=revision,\n",
    "            low_cpu_mem_usage=False,\n",
    "        )\n",
    "\n",
    "device = get_device()\n",
    "pipe = pipe.to(device)\n",
    "\n"
   ]
  },
  {
   "cell_type": "code",
   "execution_count": 24,
   "metadata": {},
   "outputs": [],
   "source": [
    "def normalize(sa):\n",
    "    sa = (sa - sa.min()) / (sa.max() - sa.min())\n",
    "    return sa\n",
    "\n",
    "def encode_text(\n",
    "        text: str,\n",
    "        device,\n",
    "        tokenizer,\n",
    "        text_encoder,\n",
    "        padding=False,\n",
    "    ) -> \"torch.Tensor\":\n",
    "    tokens = tokenizer(text, padding=padding, return_tensors=\"pt\")\n",
    "    text_embeddings = text_encoder(\n",
    "        tokens.input_ids.to(device), attention_mask=tokens.attention_mask.to(device)\n",
    "    )\n",
    "    return text_embeddings[0]\n",
    "\n",
    "def encode_text2(\n",
    "        text: str,\n",
    "        device,\n",
    "        tokenizer,\n",
    "        text_encoder,\n",
    "        padding=False,\n",
    "    ) -> \"torch.Tensor\":\n",
    "    tokens = tokenizer(text, padding=padding, return_tensors=\"pt\")\n",
    "    text_embeddings = text_encoder(\n",
    "        tokens.input_ids.to(device), attention_mask=tokens.attention_mask.to(device)\n",
    "    )\n",
    "    print(text_embeddings[0].shape)\n",
    "    \n",
    "    return text_embeddings[0]\n"
   ]
  },
  {
   "cell_type": "code",
   "execution_count": 25,
   "metadata": {},
   "outputs": [],
   "source": [
    "\n",
    "# Copied from transformers.models.bart.modeling_bart._make_causal_mask\n",
    "def _make_causal_mask(\n",
    "    input_ids_shape: torch.Size, dtype: torch.dtype, device: torch.device, past_key_values_length: int = 0\n",
    "):\n",
    "    \"\"\"\n",
    "    Make causal mask used for bi-directional self-attention.\n",
    "    \"\"\"\n",
    "    bsz, tgt_len = input_ids_shape\n",
    "    mask = torch.full((tgt_len, tgt_len), torch.tensor(torch.finfo(dtype).min, device=device), device=device)\n",
    "    mask_cond = torch.arange(mask.size(-1), device=device)\n",
    "    mask.masked_fill_(mask_cond < (mask_cond + 1).view(mask.size(-1), 1), 0)\n",
    "    mask = mask.to(dtype)\n",
    "\n",
    "    if past_key_values_length > 0:\n",
    "        mask = torch.cat([torch.zeros(tgt_len, past_key_values_length, dtype=dtype, device=device), mask], dim=-1)\n",
    "    return mask[None, None, :, :].expand(bsz, 1, tgt_len, tgt_len + past_key_values_length)\n",
    "\n",
    "# Copied from transformers.models.bart.modeling_bart._expand_mask\n",
    "def _expand_mask(mask: torch.Tensor, dtype: torch.dtype, tgt_len: Optional[int] = None):\n",
    "    \"\"\"\n",
    "    Expands attention_mask from `[bsz, seq_len]` to `[bsz, 1, tgt_seq_len, src_seq_len]`.\n",
    "    \"\"\"\n",
    "    bsz, src_len = mask.size()\n",
    "    tgt_len = tgt_len if tgt_len is not None else src_len\n",
    "\n",
    "    expanded_mask = mask[:, None, None, :].expand(bsz, 1, tgt_len, src_len).to(dtype)\n",
    "\n",
    "    inverted_mask = 1.0 - expanded_mask\n",
    "\n",
    "    return inverted_mask.masked_fill(inverted_mask.to(torch.bool), torch.finfo(dtype).min)\n"
   ]
  },
  {
   "cell_type": "code",
   "execution_count": 26,
   "metadata": {},
   "outputs": [],
   "source": [
    "from transformers.modeling_outputs import BaseModelOutputWithPooling\n",
    "\n",
    "class Embedding(nn.Module):\n",
    "    def __init__(self, \n",
    "        max_position_embeddings=77,\n",
    "        ):\n",
    "        super().__init__()\n",
    "        self.token_embedding = pipe.text_encoder.get_input_embeddings()\n",
    "        self.position_embedding = pipe.text_encoder.text_model.embeddings.position_embedding\n",
    "        self.register_buffer(\"position_ids\", torch.arange(max_position_embeddings).expand((1, -1)))\n",
    "\n",
    "    def trans_forward(\n",
    "        self,\n",
    "        device,\n",
    "        text_encoder,\n",
    "        trigger_ebd: Optional[torch.Tensor]=  None,\n",
    "        text_inputs: Optional[torch.Tensor] = None,\n",
    "        attention_mask: Optional[torch.Tensor] = None,\n",
    "        position_ids: Optional[torch.Tensor] = None,\n",
    "        output_attentions: Optional[bool] = None,\n",
    "        output_hidden_states: Optional[bool] = None,\n",
    "        return_dict: Optional[bool] = None,\n",
    "        hidden_size=768,\n",
    "        vocab_size=49408,\n",
    "        max_position_embeddings=77,\n",
    "        layer_norm_eps=1e-5,\n",
    "    ) -> Union[Tuple, BaseModelOutputWithPooling]:\n",
    "\n",
    "        return_dict = return_dict if return_dict is not None else text_encoder.config.use_return_dict\n",
    "        \n",
    "        text_input_ids = text_inputs\n",
    "        attention_mask = None # text_inputs.attention_mask.to(device)\n",
    "        \n",
    "        # =============================== TextTransformer ====================================\n",
    "        add_size =  torch.randn(1, 1).expand(text_input_ids.size(0), -1).to(device)\n",
    "        tri_input_shape = torch.cat((text_input_ids, add_size), dim=1).size()\n",
    "\n",
    "        input_shape = text_input_ids.size()\n",
    "        text_input_ids = text_input_ids.view(-1, input_shape[-1])\n",
    "\n",
    "        # ================================ self.embedding ====================================\n",
    "        inputs_embeds = self.token_embedding(text_input_ids)\n",
    "\n",
    "        tiled_tensor = trigger_ebd.expand(inputs_embeds.size(0), -1, -1)\n",
    "        cat1_embeds = torch.cat((inputs_embeds[:, :1, :], tiled_tensor), dim=1) # sot\n",
    "        cat_embeds = torch.cat((cat1_embeds, inputs_embeds[:, 1:, :]), dim=1)\n",
    "\n",
    "        seq_length = (text_input_ids.shape[-1]+1) if text_input_ids is not None else inputs_embeds.shape[-2]\n",
    "\n",
    "        if position_ids is None:\n",
    "            position_ids = self.position_ids[:, :seq_length].to(device)\n",
    "\n",
    "        position_embeddings = self.position_embedding(position_ids)\n",
    "        embeddings = cat_embeds + position_embeddings.to(device)\n",
    "\n",
    "        hidden_states = embeddings\n",
    "        # ====================================================================\n",
    "\n",
    "        # CLIP's text model uses causal mask, prepare it here.\n",
    "        # https://github.com/openai/CLIP/blob/cfcffb90e69f37bf2ff1e988237a0fbe41f33c04/clip/model.py#L324\n",
    "\n",
    "        causal_attention_mask = _make_causal_mask(tri_input_shape, hidden_states.dtype, device=hidden_states.device)\n",
    "        # expand attention_mask\n",
    "        if attention_mask is not None:\n",
    "            # [bsz, seq_len] -> [bsz, 1, tgt_seq_len, src_seq_len]\n",
    "            attention_mask = _expand_mask(attention_mask, hidden_states.dtype)\n",
    "        \n",
    "        encoder_outputs = text_encoder.text_model.encoder(\n",
    "            inputs_embeds=hidden_states,\n",
    "            attention_mask=attention_mask,\n",
    "            causal_attention_mask=causal_attention_mask.to(device),\n",
    "            output_attentions=output_attentions,\n",
    "            output_hidden_states=output_hidden_states,\n",
    "            return_dict=return_dict,\n",
    "        )\n",
    "\n",
    "        last_hidden_state = encoder_outputs[0]\n",
    "        last_hidden_state = text_encoder.text_model.final_layer_norm(last_hidden_state)\n",
    "\n",
    "        # text_embeds.shape = [batch_size, sequence_length, transformer.width]\n",
    "        # take features from the eot embedding (eot_token is the highest number in each sequence)\n",
    "        # casting to torch.int for onnx compatibility: argmax doesn't support int64 inputs with opset 14\n",
    "        pooled_output = last_hidden_state[\n",
    "            torch.arange(last_hidden_state.shape[0], device=last_hidden_state.device),\n",
    "            text_input_ids.to(dtype=torch.int, device=last_hidden_state.device).argmax(dim=-1),\n",
    "        ]\n",
    "\n",
    "        if not return_dict:\n",
    "            return (last_hidden_state, pooled_output) + encoder_outputs[1:]\n",
    "\n",
    "        return BaseModelOutputWithPooling(\n",
    "            last_hidden_state=last_hidden_state,\n",
    "            pooler_output=pooled_output,\n",
    "            hidden_states=encoder_outputs.hidden_states,\n",
    "            attentions=encoder_outputs.attentions,\n",
    "        )"
   ]
  },
  {
   "cell_type": "code",
   "execution_count": 27,
   "metadata": {},
   "outputs": [],
   "source": [
    "from transformers.modeling_outputs import BaseModelOutputWithPooling\n",
    "\n",
    "class Embedding1(nn.Module):\n",
    "    def __init__(self, \n",
    "        max_position_embeddings=77,\n",
    "        layer_norm_eps=1e-5,\n",
    "        hidden_size=768,\n",
    "        vocab_size=49408,\n",
    "        ):\n",
    "        super().__init__()\n",
    "        self.token_embedding = pipe.text_encoder.get_input_embeddings()\n",
    "        self.position_embedding = pipe.text_encoder.text_model.embeddings.position_embedding\n",
    "        self.register_buffer(\"position_ids\", torch.arange(max_position_embeddings).expand((1, -1)))\n",
    "\n",
    "    def trans_forward(\n",
    "        self,\n",
    "        device,\n",
    "        text_encoder,\n",
    "        trigger_ebd: Optional[torch.Tensor]=  None,\n",
    "        text_inputs: Optional[torch.Tensor] = None,\n",
    "        attention_mask: Optional[torch.Tensor] = None,\n",
    "        position_ids: Optional[torch.Tensor] = None,\n",
    "        output_attentions: Optional[bool] = None,\n",
    "        output_hidden_states: Optional[bool] = None,\n",
    "        return_dict: Optional[bool] = None,\n",
    "        hidden_size=768,\n",
    "        vocab_size=49408,\n",
    "        max_position_embeddings=77,\n",
    "        layer_norm_eps=1e-5,\n",
    "    ) -> Union[Tuple, BaseModelOutputWithPooling]:\n",
    "\n",
    "        return_dict = return_dict if return_dict is not None else text_encoder.config.use_return_dict\n",
    "        \n",
    "        text_input_ids = text_inputs.input_ids\n",
    "        attention_mask = None # text_inputs.attention_mask.to(device)\n",
    "        \n",
    "        # =============================== TextTransformer ====================================\n",
    "        input_shape = text_input_ids.size()\n",
    "        text_input_ids = text_input_ids.view(-1, input_shape[-1])\n",
    "        \n",
    "        # ================================ self.embedding ====================================\n",
    "        inputs_embeds = self.token_embedding(text_input_ids)\n",
    "        seq_length = text_input_ids.shape[-1] if text_input_ids is not None else inputs_embeds.shape[-2]\n",
    "        print(\"========================\")\n",
    "        print(inputs_embeds)\n",
    "        if position_ids is None:\n",
    "            position_ids = self.position_ids[:, :seq_length].to(device)\n",
    "\n",
    "        position_embeddings = self.position_embedding(position_ids)\n",
    "        embeddings = inputs_embeds + position_embeddings.to(device)\n",
    "\n",
    "        hidden_states = embeddings\n",
    "        # ====================================================================\n",
    "\n",
    "        # CLIP's text model uses causal mask, prepare it here.\n",
    "        # https://github.com/openai/CLIP/blob/cfcffb90e69f37bf2ff1e988237a0fbe41f33c04/clip/model.py#L324\n",
    "        causal_attention_mask = _make_causal_mask(input_shape, hidden_states.dtype, device=hidden_states.device)\n",
    "        # expand attention_mask\n",
    "        if attention_mask is not None:\n",
    "            # [bsz, seq_len] -> [bsz, 1, tgt_seq_len, src_seq_len]\n",
    "            attention_mask = _expand_mask(attention_mask, hidden_states.dtype)\n",
    "        \n",
    "        encoder_outputs = text_encoder.text_model.encoder(\n",
    "            inputs_embeds=hidden_states,\n",
    "            attention_mask=attention_mask,\n",
    "            causal_attention_mask=causal_attention_mask,\n",
    "            output_attentions=output_attentions,\n",
    "            output_hidden_states=output_hidden_states,\n",
    "            return_dict=return_dict,\n",
    "        )\n",
    "        print(encoder_outputs)\n",
    "\n",
    "        last_hidden_state = encoder_outputs[0]\n",
    "        last_hidden_state = text_encoder.text_model.final_layer_norm(last_hidden_state)\n",
    "        # last_hidden_state = self.final_layer_norm(last_hidden_state)\n",
    "\n",
    "        # text_embeds.shape = [batch_size, sequence_length, transformer.width]\n",
    "        # take features from the eot embedding (eot_token is the highest number in each sequence)\n",
    "        # casting to torch.int for onnx compatibility: argmax doesn't support int64 inputs with opset 14\n",
    "        pooled_output = last_hidden_state[\n",
    "            torch.arange(last_hidden_state.shape[0], device=last_hidden_state.device),\n",
    "            text_input_ids.to(dtype=torch.int, device=last_hidden_state.device).argmax(dim=-1),\n",
    "        ]\n",
    "\n",
    "        if not return_dict:\n",
    "            return (last_hidden_state, pooled_output) + encoder_outputs[1:]\n",
    "\n",
    "        return BaseModelOutputWithPooling(\n",
    "            last_hidden_state=last_hidden_state,\n",
    "            pooler_output=pooled_output,\n",
    "            hidden_states=encoder_outputs.hidden_states,\n",
    "            attentions=encoder_outputs.attentions,\n",
    "        )\n",
    "        # =============================== TextTransformer ===================================="
   ]
  },
  {
   "cell_type": "code",
   "execution_count": 28,
   "metadata": {},
   "outputs": [
    {
     "name": "stdout",
     "output_type": "stream",
     "text": [
      "Finish load trigger\n"
     ]
    }
   ],
   "source": [
    "initial_lr: float = 1e-5\n",
    "step_size: int = 50\n",
    "epochs: int = 10\n",
    "gamma: float = 0.7\n",
    "train_batch_size: int = 1\n",
    "padding=False\n",
    "vocab_size: int = 49408\n",
    "hidden_size: int = 768\n",
    "\n",
    "# 0是改写的embedding，1是embedding层面相加，2是token层面相加\n",
    "Token2Ebd = Embedding()\n",
    "Token2Ebd1 = Embedding1()\n",
    "# -----------------------------Prepare trigger-----------------------------------\n",
    "Trigger = \"cat\"\n",
    "tri_ids = tokenizer(Trigger, padding=padding, return_tensors=\"pt\").to(device)\n",
    "tri_embedding = Token2Ebd.token_embedding(tri_ids['input_ids'])\n",
    "Trigger_ids = tri_embedding[:,1:2,:].detach().clone().requires_grad_(True) \n",
    "\n",
    "# Evaluate the attention map with the word cat and the optimized embedding\n",
    "\n",
    "# Define the optimizer, scheduler and loss function\n",
    "optimizer = optim.Adam([Trigger_ids], lr=initial_lr)\n",
    "# scheduler = optim.lr_scheduler.StepLR(optimizer, step_size=step_size, gamma=gamma)\n",
    "# loss_fn = nn.BCELoss(reduction=\"mean\")\n",
    "# loss_fn = nn.CosineEmbeddingLoss(margin=0.2)\n",
    "# loss_fn = nn.CrossEntropyLoss(reduction=\"mean\")\n",
    "loss_fn = torch.nn.L1Loss(size_average=None, reduce=None, reduction='mean')\n",
    "\n",
    "print(\"Finish load trigger\")"
   ]
  },
  {
   "cell_type": "markdown",
   "metadata": {},
   "source": [
    "## 测试embedding"
   ]
  },
  {
   "cell_type": "code",
   "execution_count": 29,
   "metadata": {},
   "outputs": [
    {
     "name": "stdout",
     "output_type": "stream",
     "text": [
      "========================\n",
      "tensor([[[ 0.0011,  0.0032,  0.0003,  ..., -0.0018,  0.0003,  0.0019],\n",
      "         [-0.0033,  0.0018, -0.0040,  ...,  0.0051, -0.0006, -0.0186],\n",
      "         [ 0.0109, -0.0107, -0.0201,  ...,  0.0014,  0.0041, -0.0084],\n",
      "         ...,\n",
      "         [-0.0046, -0.0064,  0.0114,  ..., -0.0080,  0.0100, -0.0011],\n",
      "         [ 0.0146, -0.0119, -0.0044,  ...,  0.0140,  0.0275, -0.0084],\n",
      "         [ 0.0012,  0.0077, -0.0011,  ..., -0.0015,  0.0009,  0.0052]]],\n",
      "       device='cuda:0', grad_fn=<EmbeddingBackward0>)\n",
      "BaseModelOutput(last_hidden_state=tensor([[[-3.4711, -2.9583,  5.1261,  ...,  1.3565, -1.6690, -1.2495],\n",
      "         [-0.2137, -1.6040,  0.3462,  ...,  1.3587, -0.8090, -1.1321],\n",
      "         [ 0.2697,  0.3519,  0.1942,  ..., -0.3753, -0.3441,  0.1676],\n",
      "         ...,\n",
      "         [ 0.4752,  0.0110,  0.2325,  ..., -0.4798,  0.0866,  0.3003],\n",
      "         [ 0.0207, -0.6949,  1.1246,  ..., -0.5855,  0.1161,  0.5064],\n",
      "         [ 0.3607, -0.3802, -0.0058,  ..., -0.0909, -0.0773,  0.1344]]],\n",
      "       device='cuda:0', grad_fn=<AddBackward0>), hidden_states=None, attentions=None)\n",
      "--------------------\n",
      " cos simi(all_embedding, text_ebd) = \n",
      "tensor([[1.0000, 0.1486, 0.4206, 0.7754, 0.7517, 0.5694, 0.9074, 0.5959]],\n",
      "       device='cuda:0', grad_fn=<SumBackward1>)\n"
     ]
    }
   ],
   "source": [
    "vocab_size: int = 49408\n",
    "hidden_size: int = 768\n",
    "\n",
    "ids = tokenizer(\"sks Bird fly over the sea\", padding=padding, return_tensors=\"pt\").to(device)\n",
    "ids1 = tokenizer(\"Bird fly over the sea\", padding=padding, return_tensors=\"pt\").to(device)\n",
    "ids2 = tokenizer(\"Bird fly over the sea\", padding=padding, return_tensors=\"pt\").to(device)\n",
    "\n",
    "all_embedding = Token2Ebd.trans_forward(device = device, text_encoder = text_encoder, trigger_ebd=Trigger_ids,text_inputs=ids1[\"input_ids\"]) \n",
    "all_embedding2 = Token2Ebd.trans_forward(device = device, text_encoder = text_encoder, trigger_ebd=Trigger_ids,text_inputs=ids2[\"input_ids\"]) \n",
    "\n",
    "all_embedding1 = Token2Ebd1.trans_forward(device = device, text_encoder = text_encoder, trigger_ebd=Trigger_ids,text_inputs=ids) \n",
    "\n",
    "all_embedding3 = encode_text(\"sks Bird fly over the sea\", device, tokenizer, text_encoder)\n",
    "\n",
    "print(\"--------------------\")\n",
    "# print(all_embedding)\n",
    "# print(all_embedding1)\n",
    "# print(all_embedding3)\n",
    "cosine_sim = torch.nn.functional.cosine_similarity(all_embedding[0], all_embedding1[0], dim=2)\n",
    "# print(cosine_sim.shape)\n",
    "print(\" cos simi(all_embedding, text_ebd) = \")\n",
    "print(cosine_sim)\n"
   ]
  },
  {
   "cell_type": "code",
   "execution_count": 30,
   "metadata": {},
   "outputs": [
    {
     "name": "stdout",
     "output_type": "stream",
     "text": [
      " cos simi(all_embedding, text_ebd) = \n",
      "tensor([[1.0000, 0.1486, 0.4206, 0.7754, 0.7517, 0.5694, 0.9074, 0.5959]],\n",
      "       device='cuda:0', grad_fn=<SumBackward1>)\n"
     ]
    },
    {
     "name": "stderr",
     "output_type": "stream",
     "text": [
      "100%|██████████| 3/3 [00:00<00:00,  5.77it/s]\n",
      "100%|██████████| 3/3 [00:00<00:00,  6.93it/s]\n"
     ]
    },
    {
     "name": "stdout",
     "output_type": "stream",
     "text": [
      "torch.Size([1, 3, 768])\n"
     ]
    },
    {
     "data": {
      "image/png": "[encoded data removed]",
      "text/plain": [
       "<Figure size 400x400 with 4 Axes>"
      ]
     },
     "metadata": {},
     "output_type": "display_data"
    }
   ],
   "source": [
    "text_ebd = encode_text(\"sks Bird fly over the sea\", device, tokenizer, text_encoder).to(device)\n",
    "\n",
    "# # 测试embedding的相似度\n",
    "cosine_sim = torch.nn.functional.cosine_similarity(all_embedding[0], text_ebd, dim=2)\n",
    "# print(cosine_sim.shape)\n",
    "print(\" cos simi(all_embedding, text_ebd) = \")\n",
    "print(cosine_sim)\n",
    "set_seed(134246)\n",
    "\n",
    "with StableDiffusionHooker(pipe) as hooker:\n",
    "    out = pipe(num_inference_steps=3, prompt_embeds=text_ebd)\n",
    "    image_tri = out.images[0]\n",
    "    ovam_evaluator3= hooker.get_ovam_callable(expand_size=(512,512))\n",
    "    attention_maps3 = ovam_evaluator3(text_ebd[0]).squeeze().cpu()[1]#(512，512)\n",
    "    # attention_maps3[(attention_maps3/attention_maps3.max())<0.1]= 0\n",
    "    attention_maps3 = attention_maps3.detach()\n",
    "with StableDiffusionHooker(pipe) as hooker:\n",
    "    out2 = pipe(num_inference_steps=3, prompt_embeds=all_embedding[0])\n",
    "    image = out2.images[0]\n",
    "    ovam_evaluator2= hooker.get_ovam_callable(expand_size=(512,512))\n",
    "    attention_maps2 = ovam_evaluator2(all_embedding[0][0]).squeeze().cpu()[1]#(512，512)\n",
    "    attention_maps2[(attention_maps2/attention_maps2.max())<0.4]= 0\n",
    "    attention_maps2 = attention_maps2.detach()\n",
    "fig, ((ax0, ax1), (ax2, ax3)) = plt.subplots(2, 2, figsize=(4, 4))\n",
    "# ax0.imshow(image_tri)\n",
    "ax2.imshow(image_tri)\n",
    "ax0.imshow(attention_maps3, alpha=attention_maps3 / attention_maps3.max(), cmap='jet')\n",
    "# ax1.imshow(image)\n",
    "ax3.imshow(image)\n",
    "ax1.imshow(attention_maps2, alpha=attention_maps2/ attention_maps2.max(), cmap='jet')\n",
    "\n",
    "fig.tight_layout()\n",
    "print(tri_embedding.shape)"
   ]
  },
  {
   "cell_type": "code",
   "execution_count": 31,
   "metadata": {},
   "outputs": [
    {
     "name": "stderr",
     "output_type": "stream",
     "text": [
      "Resolving data files: 100%|██████████| 495/495 [00:00<00:00, 211531.38it/s]\n",
      "Found cached dataset imagefolder (/home/data/ty/imagefolder/default-85ef0783ae85e5f5/0.0.0/37fbb85cc714a338bea574ac6c7d0b5be5aff46c1862c1989b20e0771199e93f)\n",
      "100%|██████████| 1/1 [00:00<00:00, 352.73it/s]\n"
     ]
    },
    {
     "name": "stdout",
     "output_type": "stream",
     "text": [
      "***column_names: ['image', 'text']\n",
      "***** Running training *****\n",
      "  Num examples = 494\n",
      "  Num Epochs = 1\n",
      "  Instantaneous batch size per device = 8\n",
      "  Total train batch size (w. parallel, distributed & accumulation) = 32\n",
      "  Gradient Accumulation steps = 4\n",
      "  Total optimization steps = 4\n"
     ]
    }
   ],
   "source": [
    "import random\n",
    "import logging\n",
    "import math\n",
    "from torchvision import transforms\n",
    "from datasets import load_dataset\n",
    "dataset_name = None\n",
    "dataset_config_name = None\n",
    "train_data_dir = \"/home/data/ty/laion_dogcat_500\"\n",
    "cache_dir = \"/home/data/ty\"\n",
    "caption_column:str = \"text\"\n",
    "image_column:str = \"image\"\n",
    "train_batch_size = 8\n",
    "gradient_accumulation_steps = 4\n",
    "max_train_steps = 4\n",
    "\n",
    "\n",
    "dataset_name_mapping = {\n",
    "    \"lambdalabs/pokemon-blip-captions\": (\"image\", \"text\"),\n",
    "}\n",
    "\n",
    "if dataset_name is not None:\n",
    "    # Downloading and loading a dataset from the hub.\n",
    "    dataset = load_dataset(\n",
    "        dataset_name,\n",
    "        dataset_config_name,\n",
    "        cache_dir=cache_dir,\n",
    "    )\n",
    "else:\n",
    "    data_files = {}\n",
    "    if train_data_dir is not None:\n",
    "        data_files[\"train\"] = os.path.join(train_data_dir, \"**\")\n",
    "    dataset = load_dataset(\n",
    "        \"imagefolder\",\n",
    "        data_files=data_files,\n",
    "        cache_dir=cache_dir,\n",
    "    )\n",
    "\n",
    "\n",
    "column_names = dataset[\"train\"].column_names\n",
    "print(\"***column_names:\", column_names)\n",
    "dataset_columns = dataset_name_mapping.get(dataset_name, None)\n",
    "    \n",
    "def tokenize_captions(examples, is_train=True):\n",
    "        captions = []\n",
    "        for caption in examples[caption_column]:\n",
    "            if isinstance(caption, str):\n",
    "                captions.append(caption)\n",
    "            elif isinstance(caption, (list, np.ndarray)):\n",
    "                # take a random caption if there are multiple\n",
    "                captions.append(random.choice(caption) if is_train else caption[0])\n",
    "            else:\n",
    "                raise ValueError(\n",
    "                    f\"Caption column `{caption_column}` should contain either strings or lists of strings.\"\n",
    "                )\n",
    "        inputs = tokenizer(captions, max_length=tokenizer.model_max_length, padding=\"do_not_pad\", truncation=True)\n",
    "        input_ids = inputs.input_ids\n",
    "        return input_ids\n",
    "resolution=512\n",
    "center_crop = \"store_true\"\n",
    "random_flip = \"store_true\"\n",
    "train_transforms = transforms.Compose(\n",
    "    [\n",
    "        transforms.Resize((resolution, resolution), interpolation=transforms.InterpolationMode.BILINEAR),\n",
    "        transforms.CenterCrop(resolution) if center_crop else transforms.RandomCrop(resolution),\n",
    "        transforms.RandomHorizontalFlip() if random_flip else transforms.Lambda(lambda x: x),\n",
    "        transforms.ToTensor(),\n",
    "        transforms.Normalize([0.5], [0.5]),  ## tensor.sub_(mean).div_(std)\n",
    "    ]\n",
    ")\n",
    "\n",
    "def preprocess_train(examples):\n",
    "    images = [image.convert(\"RGB\") for image in examples[image_column]]\n",
    "    examples[\"pixel_values\"] = [train_transforms(image) for image in images]\n",
    "    examples[\"input_ids\"] = tokenize_captions(examples)[:76]\n",
    "    return examples\n",
    "\n",
    "def collate_fn(examples):\n",
    "    pixel_values = torch.stack([example[\"pixel_values\"] for example in examples])\n",
    "    pixel_values = pixel_values.to(memory_format=torch.contiguous_format).float()\n",
    "    input_ids = [example[\"input_ids\"][:76] for example in examples]\n",
    "    padded_tokens = tokenizer.pad({\"input_ids\": input_ids}, padding=True, return_tensors=\"pt\")\n",
    "    return {\n",
    "        \"pixel_values\": pixel_values,\n",
    "        \"input_ids\": padded_tokens.input_ids,\n",
    "        \"attention_mask\": padded_tokens.attention_mask,\n",
    "    }\n",
    "\n",
    "\n",
    "train_dataset = dataset[\"train\"].with_transform(preprocess_train)\n",
    "train_dataloader = torch.utils.data.DataLoader(\n",
    "        train_dataset, shuffle=True, collate_fn=collate_fn, batch_size=train_batch_size, drop_last=True\n",
    "    )\n",
    "    \n",
    "total_batch_size = train_batch_size * gradient_accumulation_steps\n",
    "num_update_steps_per_epoch = math.ceil(len(train_dataloader) / gradient_accumulation_steps)\n",
    "num_train_epochs = math.ceil(max_train_steps / num_update_steps_per_epoch)\n",
    "\n",
    "\n",
    "print(\"***** Running training *****\")\n",
    "print(f\"  Num examples = {len(train_dataset)}\")\n",
    "print(f\"  Num Epochs = {num_train_epochs}\")\n",
    "print(f\"  Instantaneous batch size per device = {train_batch_size}\")\n",
    "print(f\"  Total train batch size (w. parallel, distributed & accumulation) = {total_batch_size}\")\n",
    "print(f\"  Gradient Accumulation steps = {gradient_accumulation_steps}\")\n",
    "print(f\"  Total optimization steps = {max_train_steps}\")\n",
    "\n"
   ]
  },
  {
   "cell_type": "code",
   "execution_count": null,
   "metadata": {},
   "outputs": [],
   "source": []
  },
  {
   "cell_type": "code",
   "execution_count": 32,
   "metadata": {},
   "outputs": [
    {
     "name": "stdout",
     "output_type": "stream",
     "text": [
      "1\n"
     ]
    }
   ],
   "source": [
    "print(num_train_epochs)"
   ]
  },
  {
   "cell_type": "code",
   "execution_count": 33,
   "metadata": {},
   "outputs": [
    {
     "name": "stderr",
     "output_type": "stream",
     "text": [
      "100%|██████████| 3/3 [00:00<00:00,  4.45it/s]\n",
      "100%|██████████| 3/3 [00:00<00:00,  5.24it/s]\n"
     ]
    },
    {
     "name": "stdout",
     "output_type": "stream",
     "text": [
      "epoch = 0,   loss = 0.15773195028305054\n"
     ]
    },
    {
     "name": "stderr",
     "output_type": "stream",
     "text": [
      "100%|██████████| 3/3 [00:00<00:00,  5.23it/s]\n",
      "100%|██████████| 3/3 [00:00<00:00,  5.24it/s]\n"
     ]
    },
    {
     "name": "stdout",
     "output_type": "stream",
     "text": [
      "epoch = 1,   loss = 0.40218669176101685\n"
     ]
    },
    {
     "name": "stderr",
     "output_type": "stream",
     "text": [
      "100%|██████████| 3/3 [00:00<00:00,  5.21it/s]\n",
      "100%|██████████| 3/3 [00:00<00:00,  5.19it/s]\n"
     ]
    },
    {
     "name": "stdout",
     "output_type": "stream",
     "text": [
      "epoch = 2,   loss = 0.2752428650856018\n"
     ]
    },
    {
     "name": "stderr",
     "output_type": "stream",
     "text": [
      "100%|██████████| 3/3 [00:00<00:00,  5.23it/s]\n",
      "100%|██████████| 3/3 [00:00<00:00,  5.47it/s]\n"
     ]
    },
    {
     "name": "stdout",
     "output_type": "stream",
     "text": [
      "epoch = 3,   loss = 0.11778124421834946\n"
     ]
    },
    {
     "name": "stderr",
     "output_type": "stream",
     "text": [
      "100%|██████████| 3/3 [00:00<00:00,  5.48it/s]\n",
      "100%|██████████| 3/3 [00:00<00:00,  5.50it/s]\n"
     ]
    },
    {
     "name": "stdout",
     "output_type": "stream",
     "text": [
      "epoch = 4,   loss = 0.27070295810699463\n"
     ]
    },
    {
     "name": "stderr",
     "output_type": "stream",
     "text": [
      "100%|██████████| 3/3 [00:00<00:00,  5.49it/s]\n",
      "100%|██████████| 3/3 [00:00<00:00,  5.42it/s]\n"
     ]
    },
    {
     "name": "stdout",
     "output_type": "stream",
     "text": [
      "epoch = 5,   loss = 0.138754203915596\n"
     ]
    },
    {
     "name": "stderr",
     "output_type": "stream",
     "text": [
      "100%|██████████| 3/3 [00:00<00:00,  5.44it/s]\n",
      "100%|██████████| 3/3 [00:00<00:00,  5.49it/s]\n"
     ]
    },
    {
     "name": "stdout",
     "output_type": "stream",
     "text": [
      "epoch = 6,   loss = 0.4310941696166992\n"
     ]
    },
    {
     "name": "stderr",
     "output_type": "stream",
     "text": [
      "100%|██████████| 3/3 [00:00<00:00,  5.44it/s]\n",
      "100%|██████████| 3/3 [00:00<00:00,  5.48it/s]\n"
     ]
    },
    {
     "name": "stdout",
     "output_type": "stream",
     "text": [
      "epoch = 7,   loss = 0.3688552975654602\n"
     ]
    },
    {
     "name": "stderr",
     "output_type": "stream",
     "text": [
      "100%|██████████| 3/3 [00:00<00:00,  5.47it/s]\n",
      "100%|██████████| 3/3 [00:00<00:00,  5.45it/s]\n"
     ]
    },
    {
     "name": "stdout",
     "output_type": "stream",
     "text": [
      "epoch = 8,   loss = 0.17916089296340942\n"
     ]
    },
    {
     "name": "stderr",
     "output_type": "stream",
     "text": [
      "100%|██████████| 3/3 [00:00<00:00,  5.50it/s]\n",
      "100%|██████████| 3/3 [00:00<00:00,  5.48it/s]\n"
     ]
    },
    {
     "name": "stdout",
     "output_type": "stream",
     "text": [
      "epoch = 9,   loss = 0.18249011039733887\n"
     ]
    },
    {
     "name": "stderr",
     "output_type": "stream",
     "text": [
      "100%|██████████| 3/3 [00:00<00:00,  5.43it/s]\n",
      "100%|██████████| 3/3 [00:00<00:00,  5.46it/s]\n"
     ]
    },
    {
     "name": "stdout",
     "output_type": "stream",
     "text": [
      "epoch = 10,   loss = 0.35607048869132996\n"
     ]
    },
    {
     "name": "stderr",
     "output_type": "stream",
     "text": [
      "100%|██████████| 3/3 [00:00<00:00,  5.44it/s]\n",
      "100%|██████████| 3/3 [00:00<00:00,  5.46it/s]\n"
     ]
    },
    {
     "name": "stdout",
     "output_type": "stream",
     "text": [
      "epoch = 11,   loss = 0.2697308361530304\n"
     ]
    },
    {
     "name": "stderr",
     "output_type": "stream",
     "text": [
      "100%|██████████| 3/3 [00:00<00:00,  5.46it/s]\n",
      "100%|██████████| 3/3 [00:00<00:00,  5.45it/s]\n"
     ]
    },
    {
     "name": "stdout",
     "output_type": "stream",
     "text": [
      "epoch = 12,   loss = 0.18690238893032074\n"
     ]
    },
    {
     "name": "stderr",
     "output_type": "stream",
     "text": [
      "100%|██████████| 3/3 [00:00<00:00,  5.45it/s]\n",
      "100%|██████████| 3/3 [00:00<00:00,  5.51it/s]\n"
     ]
    },
    {
     "name": "stdout",
     "output_type": "stream",
     "text": [
      "epoch = 13,   loss = 0.21203331649303436\n"
     ]
    },
    {
     "name": "stderr",
     "output_type": "stream",
     "text": [
      "100%|██████████| 3/3 [00:00<00:00,  5.47it/s]\n",
      "100%|██████████| 3/3 [00:00<00:00,  5.46it/s]\n"
     ]
    },
    {
     "name": "stdout",
     "output_type": "stream",
     "text": [
      "epoch = 14,   loss = 0.16638532280921936\n"
     ]
    },
    {
     "name": "stderr",
     "output_type": "stream",
     "text": [
      "100%|██████████| 3/3 [00:00<00:00,  5.45it/s]\n",
      "100%|██████████| 3/3 [00:00<00:00,  5.49it/s]\n"
     ]
    },
    {
     "name": "stdout",
     "output_type": "stream",
     "text": [
      "epoch = 15,   loss = 0.177412211894989\n"
     ]
    },
    {
     "name": "stderr",
     "output_type": "stream",
     "text": [
      "100%|██████████| 3/3 [00:00<00:00,  5.47it/s]\n",
      "100%|██████████| 3/3 [00:00<00:00,  5.48it/s]\n"
     ]
    },
    {
     "name": "stdout",
     "output_type": "stream",
     "text": [
      "epoch = 16,   loss = 0.11045925319194794\n"
     ]
    },
    {
     "name": "stderr",
     "output_type": "stream",
     "text": [
      "100%|██████████| 3/3 [00:00<00:00,  5.48it/s]\n",
      "100%|██████████| 3/3 [00:00<00:00,  5.48it/s]\n"
     ]
    },
    {
     "name": "stdout",
     "output_type": "stream",
     "text": [
      "epoch = 17,   loss = 0.2140553593635559\n"
     ]
    },
    {
     "name": "stderr",
     "output_type": "stream",
     "text": [
      "100%|██████████| 3/3 [00:00<00:00,  5.49it/s]\n",
      "100%|██████████| 3/3 [00:00<00:00,  5.49it/s]\n"
     ]
    },
    {
     "name": "stdout",
     "output_type": "stream",
     "text": [
      "epoch = 18,   loss = 0.15343700349330902\n"
     ]
    },
    {
     "name": "stderr",
     "output_type": "stream",
     "text": [
      "100%|██████████| 3/3 [00:00<00:00,  5.43it/s]\n",
      "100%|██████████| 3/3 [00:00<00:00,  5.46it/s]\n"
     ]
    },
    {
     "name": "stdout",
     "output_type": "stream",
     "text": [
      "epoch = 19,   loss = 0.21946139633655548\n"
     ]
    },
    {
     "name": "stderr",
     "output_type": "stream",
     "text": [
      "100%|██████████| 3/3 [00:00<00:00,  5.46it/s]\n",
      "100%|██████████| 3/3 [00:00<00:00,  5.43it/s]\n"
     ]
    },
    {
     "name": "stdout",
     "output_type": "stream",
     "text": [
      "epoch = 20,   loss = 0.2026076763868332\n"
     ]
    },
    {
     "name": "stderr",
     "output_type": "stream",
     "text": [
      "100%|██████████| 3/3 [00:00<00:00,  5.41it/s]\n",
      "100%|██████████| 3/3 [00:00<00:00,  5.44it/s]\n"
     ]
    },
    {
     "name": "stdout",
     "output_type": "stream",
     "text": [
      "epoch = 21,   loss = 0.23634812235832214\n"
     ]
    },
    {
     "name": "stderr",
     "output_type": "stream",
     "text": [
      "100%|██████████| 3/3 [00:00<00:00,  5.46it/s]\n",
      "100%|██████████| 3/3 [00:00<00:00,  5.47it/s]\n"
     ]
    },
    {
     "name": "stdout",
     "output_type": "stream",
     "text": [
      "epoch = 22,   loss = 0.21522879600524902\n"
     ]
    },
    {
     "name": "stderr",
     "output_type": "stream",
     "text": [
      "100%|██████████| 3/3 [00:00<00:00,  5.49it/s]\n",
      "100%|██████████| 3/3 [00:00<00:00,  5.48it/s]\n"
     ]
    },
    {
     "name": "stdout",
     "output_type": "stream",
     "text": [
      "epoch = 23,   loss = 0.1343064159154892\n"
     ]
    },
    {
     "name": "stderr",
     "output_type": "stream",
     "text": [
      "100%|██████████| 3/3 [00:00<00:00,  5.46it/s]\n",
      "100%|██████████| 3/3 [00:00<00:00,  5.47it/s]\n"
     ]
    },
    {
     "name": "stdout",
     "output_type": "stream",
     "text": [
      "epoch = 24,   loss = 0.20091532170772552\n"
     ]
    },
    {
     "name": "stderr",
     "output_type": "stream",
     "text": [
      "100%|██████████| 3/3 [00:00<00:00,  5.43it/s]\n",
      "100%|██████████| 3/3 [00:00<00:00,  5.49it/s]\n"
     ]
    },
    {
     "name": "stdout",
     "output_type": "stream",
     "text": [
      "epoch = 25,   loss = 0.24938735365867615\n"
     ]
    },
    {
     "name": "stderr",
     "output_type": "stream",
     "text": [
      "100%|██████████| 3/3 [00:00<00:00,  5.41it/s]\n",
      "100%|██████████| 3/3 [00:00<00:00,  5.38it/s]\n"
     ]
    },
    {
     "name": "stdout",
     "output_type": "stream",
     "text": [
      "epoch = 26,   loss = 0.3196333050727844\n"
     ]
    },
    {
     "name": "stderr",
     "output_type": "stream",
     "text": [
      "100%|██████████| 3/3 [00:00<00:00,  5.46it/s]\n",
      "100%|██████████| 3/3 [00:00<00:00,  5.46it/s]\n"
     ]
    },
    {
     "name": "stdout",
     "output_type": "stream",
     "text": [
      "epoch = 27,   loss = 0.18391633033752441\n"
     ]
    },
    {
     "name": "stderr",
     "output_type": "stream",
     "text": [
      "100%|██████████| 3/3 [00:00<00:00,  5.18it/s]\n",
      "100%|██████████| 3/3 [00:00<00:00,  5.23it/s]\n"
     ]
    },
    {
     "name": "stdout",
     "output_type": "stream",
     "text": [
      "epoch = 28,   loss = 0.1141168624162674\n"
     ]
    },
    {
     "name": "stderr",
     "output_type": "stream",
     "text": [
      "100%|██████████| 3/3 [00:00<00:00,  5.20it/s]\n",
      "100%|██████████| 3/3 [00:00<00:00,  5.20it/s]\n"
     ]
    },
    {
     "name": "stdout",
     "output_type": "stream",
     "text": [
      "epoch = 29,   loss = 0.1364339292049408\n"
     ]
    },
    {
     "name": "stderr",
     "output_type": "stream",
     "text": [
      "100%|██████████| 3/3 [00:00<00:00,  5.22it/s]\n",
      "100%|██████████| 3/3 [00:00<00:00,  5.24it/s]\n"
     ]
    },
    {
     "name": "stdout",
     "output_type": "stream",
     "text": [
      "epoch = 30,   loss = 0.17260023951530457\n"
     ]
    },
    {
     "name": "stderr",
     "output_type": "stream",
     "text": [
      "100%|██████████| 3/3 [00:00<00:00,  5.20it/s]\n",
      "100%|██████████| 3/3 [00:00<00:00,  5.31it/s]\n"
     ]
    },
    {
     "name": "stdout",
     "output_type": "stream",
     "text": [
      "epoch = 31,   loss = 0.21756431460380554\n"
     ]
    },
    {
     "name": "stderr",
     "output_type": "stream",
     "text": [
      "100%|██████████| 3/3 [00:00<00:00,  5.41it/s]\n",
      "100%|██████████| 3/3 [00:00<00:00,  5.41it/s]\n"
     ]
    },
    {
     "name": "stdout",
     "output_type": "stream",
     "text": [
      "epoch = 32,   loss = 0.26636970043182373\n"
     ]
    },
    {
     "name": "stderr",
     "output_type": "stream",
     "text": [
      "100%|██████████| 3/3 [00:00<00:00,  5.48it/s]\n",
      "100%|██████████| 3/3 [00:00<00:00,  5.49it/s]\n"
     ]
    },
    {
     "name": "stdout",
     "output_type": "stream",
     "text": [
      "epoch = 33,   loss = 0.2589706778526306\n"
     ]
    },
    {
     "name": "stderr",
     "output_type": "stream",
     "text": [
      "100%|██████████| 3/3 [00:00<00:00,  5.47it/s]\n",
      "100%|██████████| 3/3 [00:00<00:00,  5.48it/s]\n"
     ]
    },
    {
     "name": "stdout",
     "output_type": "stream",
     "text": [
      "epoch = 34,   loss = 0.2754761576652527\n"
     ]
    },
    {
     "name": "stderr",
     "output_type": "stream",
     "text": [
      "100%|██████████| 3/3 [00:00<00:00,  5.49it/s]\n",
      "100%|██████████| 3/3 [00:00<00:00,  5.48it/s]\n"
     ]
    },
    {
     "name": "stdout",
     "output_type": "stream",
     "text": [
      "epoch = 35,   loss = 0.22482261061668396\n"
     ]
    },
    {
     "name": "stderr",
     "output_type": "stream",
     "text": [
      "100%|██████████| 3/3 [00:00<00:00,  5.46it/s]\n",
      "100%|██████████| 3/3 [00:00<00:00,  5.50it/s]\n"
     ]
    },
    {
     "name": "stdout",
     "output_type": "stream",
     "text": [
      "epoch = 36,   loss = 0.201231449842453\n"
     ]
    },
    {
     "name": "stderr",
     "output_type": "stream",
     "text": [
      "100%|██████████| 3/3 [00:00<00:00,  5.43it/s]\n",
      "100%|██████████| 3/3 [00:00<00:00,  5.46it/s]\n"
     ]
    },
    {
     "name": "stdout",
     "output_type": "stream",
     "text": [
      "epoch = 37,   loss = 0.3093915581703186\n"
     ]
    },
    {
     "name": "stderr",
     "output_type": "stream",
     "text": [
      "100%|██████████| 3/3 [00:00<00:00,  5.46it/s]\n",
      "100%|██████████| 3/3 [00:00<00:00,  5.47it/s]\n"
     ]
    },
    {
     "name": "stdout",
     "output_type": "stream",
     "text": [
      "epoch = 38,   loss = 0.16028395295143127\n"
     ]
    },
    {
     "name": "stderr",
     "output_type": "stream",
     "text": [
      "100%|██████████| 3/3 [00:00<00:00,  5.46it/s]\n",
      "100%|██████████| 3/3 [00:00<00:00,  5.46it/s]\n"
     ]
    },
    {
     "name": "stdout",
     "output_type": "stream",
     "text": [
      "epoch = 39,   loss = 0.12162072211503983\n"
     ]
    },
    {
     "name": "stderr",
     "output_type": "stream",
     "text": [
      "100%|██████████| 3/3 [00:00<00:00,  5.48it/s]\n",
      "100%|██████████| 3/3 [00:00<00:00,  5.43it/s]\n"
     ]
    },
    {
     "name": "stdout",
     "output_type": "stream",
     "text": [
      "epoch = 40,   loss = 0.23476901650428772\n"
     ]
    },
    {
     "name": "stderr",
     "output_type": "stream",
     "text": [
      "100%|██████████| 3/3 [00:00<00:00,  5.46it/s]\n",
      "100%|██████████| 3/3 [00:00<00:00,  5.46it/s]\n"
     ]
    },
    {
     "name": "stdout",
     "output_type": "stream",
     "text": [
      "epoch = 41,   loss = 0.15735846757888794\n"
     ]
    },
    {
     "name": "stderr",
     "output_type": "stream",
     "text": [
      "100%|██████████| 3/3 [00:00<00:00,  5.47it/s]\n",
      "100%|██████████| 3/3 [00:00<00:00,  5.49it/s]\n"
     ]
    },
    {
     "name": "stdout",
     "output_type": "stream",
     "text": [
      "epoch = 42,   loss = 0.20823393762111664\n"
     ]
    },
    {
     "name": "stderr",
     "output_type": "stream",
     "text": [
      "100%|██████████| 3/3 [00:00<00:00,  5.40it/s]\n",
      "100%|██████████| 3/3 [00:00<00:00,  5.43it/s]\n"
     ]
    },
    {
     "name": "stdout",
     "output_type": "stream",
     "text": [
      "epoch = 43,   loss = 0.13475167751312256\n"
     ]
    },
    {
     "name": "stderr",
     "output_type": "stream",
     "text": [
      "100%|██████████| 3/3 [00:00<00:00,  5.47it/s]\n",
      "100%|██████████| 3/3 [00:00<00:00,  5.48it/s]\n"
     ]
    },
    {
     "name": "stdout",
     "output_type": "stream",
     "text": [
      "epoch = 44,   loss = 0.1476343423128128\n"
     ]
    },
    {
     "name": "stderr",
     "output_type": "stream",
     "text": [
      "100%|██████████| 3/3 [00:00<00:00,  5.44it/s]\n",
      "100%|██████████| 3/3 [00:00<00:00,  5.46it/s]\n"
     ]
    },
    {
     "name": "stdout",
     "output_type": "stream",
     "text": [
      "epoch = 45,   loss = 0.11737595498561859\n"
     ]
    },
    {
     "name": "stderr",
     "output_type": "stream",
     "text": [
      "100%|██████████| 3/3 [00:00<00:00,  5.44it/s]\n",
      "100%|██████████| 3/3 [00:00<00:00,  5.46it/s]\n"
     ]
    },
    {
     "name": "stdout",
     "output_type": "stream",
     "text": [
      "epoch = 46,   loss = 0.26369673013687134\n"
     ]
    },
    {
     "name": "stderr",
     "output_type": "stream",
     "text": [
      "100%|██████████| 3/3 [00:00<00:00,  5.44it/s]\n",
      "100%|██████████| 3/3 [00:00<00:00,  5.45it/s]\n"
     ]
    },
    {
     "name": "stdout",
     "output_type": "stream",
     "text": [
      "epoch = 47,   loss = 0.1465308666229248\n"
     ]
    },
    {
     "name": "stderr",
     "output_type": "stream",
     "text": [
      "100%|██████████| 3/3 [00:00<00:00,  5.49it/s]\n",
      "100%|██████████| 3/3 [00:00<00:00,  5.46it/s]\n"
     ]
    },
    {
     "name": "stdout",
     "output_type": "stream",
     "text": [
      "epoch = 48,   loss = 0.22329847514629364\n"
     ]
    },
    {
     "name": "stderr",
     "output_type": "stream",
     "text": [
      "100%|██████████| 3/3 [00:00<00:00,  5.39it/s]\n",
      "100%|██████████| 3/3 [00:00<00:00,  5.43it/s]\n"
     ]
    },
    {
     "name": "stdout",
     "output_type": "stream",
     "text": [
      "epoch = 49,   loss = 0.191660076379776\n"
     ]
    },
    {
     "name": "stderr",
     "output_type": "stream",
     "text": [
      "100%|██████████| 3/3 [00:00<00:00,  5.43it/s]\n",
      "100%|██████████| 3/3 [00:00<00:00,  5.47it/s]\n"
     ]
    },
    {
     "name": "stdout",
     "output_type": "stream",
     "text": [
      "epoch = 50,   loss = 0.2859739661216736\n"
     ]
    },
    {
     "name": "stderr",
     "output_type": "stream",
     "text": [
      "100%|██████████| 3/3 [00:00<00:00,  5.46it/s]\n",
      "100%|██████████| 3/3 [00:00<00:00,  5.46it/s]\n"
     ]
    },
    {
     "name": "stdout",
     "output_type": "stream",
     "text": [
      "epoch = 51,   loss = 0.13939549028873444\n"
     ]
    },
    {
     "name": "stderr",
     "output_type": "stream",
     "text": [
      "100%|██████████| 3/3 [00:00<00:00,  5.45it/s]\n",
      "100%|██████████| 3/3 [00:00<00:00,  5.49it/s]\n"
     ]
    },
    {
     "name": "stdout",
     "output_type": "stream",
     "text": [
      "epoch = 52,   loss = 0.13114763796329498\n"
     ]
    },
    {
     "name": "stderr",
     "output_type": "stream",
     "text": [
      "100%|██████████| 3/3 [00:00<00:00,  5.47it/s]\n",
      "100%|██████████| 3/3 [00:00<00:00,  5.50it/s]\n"
     ]
    },
    {
     "name": "stdout",
     "output_type": "stream",
     "text": [
      "epoch = 53,   loss = 0.12541808187961578\n"
     ]
    },
    {
     "name": "stderr",
     "output_type": "stream",
     "text": [
      "100%|██████████| 3/3 [00:00<00:00,  5.48it/s]\n",
      "100%|██████████| 3/3 [00:00<00:00,  5.47it/s]\n"
     ]
    },
    {
     "name": "stdout",
     "output_type": "stream",
     "text": [
      "epoch = 54,   loss = 0.2549450397491455\n"
     ]
    },
    {
     "name": "stderr",
     "output_type": "stream",
     "text": [
      "100%|██████████| 3/3 [00:00<00:00,  5.39it/s]\n",
      "100%|██████████| 3/3 [00:00<00:00,  5.43it/s]\n"
     ]
    },
    {
     "name": "stdout",
     "output_type": "stream",
     "text": [
      "epoch = 55,   loss = 0.23405194282531738\n"
     ]
    },
    {
     "name": "stderr",
     "output_type": "stream",
     "text": [
      "100%|██████████| 3/3 [00:00<00:00,  5.43it/s]\n",
      "100%|██████████| 3/3 [00:00<00:00,  5.46it/s]\n"
     ]
    },
    {
     "name": "stdout",
     "output_type": "stream",
     "text": [
      "epoch = 56,   loss = 0.12573686242103577\n"
     ]
    },
    {
     "name": "stderr",
     "output_type": "stream",
     "text": [
      "100%|██████████| 3/3 [00:00<00:00,  5.46it/s]\n",
      "100%|██████████| 3/3 [00:00<00:00,  5.44it/s]\n"
     ]
    },
    {
     "name": "stdout",
     "output_type": "stream",
     "text": [
      "epoch = 57,   loss = 0.15123146772384644\n"
     ]
    },
    {
     "name": "stderr",
     "output_type": "stream",
     "text": [
      "100%|██████████| 3/3 [00:00<00:00,  5.43it/s]\n",
      "100%|██████████| 3/3 [00:00<00:00,  5.45it/s]\n"
     ]
    },
    {
     "name": "stdout",
     "output_type": "stream",
     "text": [
      "epoch = 58,   loss = 0.23902937769889832\n"
     ]
    },
    {
     "name": "stderr",
     "output_type": "stream",
     "text": [
      "100%|██████████| 3/3 [00:00<00:00,  5.41it/s]\n",
      "100%|██████████| 3/3 [00:00<00:00,  5.46it/s]\n"
     ]
    },
    {
     "name": "stdout",
     "output_type": "stream",
     "text": [
      "epoch = 59,   loss = 0.13307853043079376\n"
     ]
    },
    {
     "name": "stderr",
     "output_type": "stream",
     "text": [
      "100%|██████████| 3/3 [00:00<00:00,  5.48it/s]\n",
      "100%|██████████| 3/3 [00:00<00:00,  5.45it/s]\n"
     ]
    },
    {
     "name": "stdout",
     "output_type": "stream",
     "text": [
      "epoch = 60,   loss = 0.21586960554122925\n"
     ]
    },
    {
     "name": "stderr",
     "output_type": "stream",
     "text": [
      "100%|██████████| 3/3 [00:00<00:00,  5.41it/s]\n",
      "100%|██████████| 3/3 [00:00<00:00,  5.45it/s]\n"
     ]
    },
    {
     "name": "stdout",
     "output_type": "stream",
     "text": [
      "epoch = 61,   loss = 0.1313430666923523\n"
     ]
    },
    {
     "name": "stderr",
     "output_type": "stream",
     "text": [
      "100%|██████████| 3/3 [00:00<00:00,  5.46it/s]\n",
      "100%|██████████| 3/3 [00:00<00:00,  5.45it/s]\n"
     ]
    },
    {
     "name": "stdout",
     "output_type": "stream",
     "text": [
      "epoch = 62,   loss = 0.11727289855480194\n"
     ]
    },
    {
     "name": "stderr",
     "output_type": "stream",
     "text": [
      "100%|██████████| 3/3 [00:00<00:00,  5.47it/s]\n",
      "100%|██████████| 3/3 [00:00<00:00,  5.46it/s]\n"
     ]
    },
    {
     "name": "stdout",
     "output_type": "stream",
     "text": [
      "epoch = 63,   loss = 0.18039944767951965\n"
     ]
    },
    {
     "name": "stderr",
     "output_type": "stream",
     "text": [
      "100%|██████████| 3/3 [00:00<00:00,  5.43it/s]\n",
      "100%|██████████| 3/3 [00:00<00:00,  5.45it/s]\n"
     ]
    },
    {
     "name": "stdout",
     "output_type": "stream",
     "text": [
      "epoch = 64,   loss = 0.10776153206825256\n"
     ]
    },
    {
     "name": "stderr",
     "output_type": "stream",
     "text": [
      "100%|██████████| 3/3 [00:00<00:00,  5.44it/s]\n",
      "100%|██████████| 3/3 [00:00<00:00,  5.46it/s]\n"
     ]
    },
    {
     "name": "stdout",
     "output_type": "stream",
     "text": [
      "epoch = 65,   loss = 0.2244829535484314\n"
     ]
    },
    {
     "name": "stderr",
     "output_type": "stream",
     "text": [
      "100%|██████████| 3/3 [00:00<00:00,  5.43it/s]\n",
      "100%|██████████| 3/3 [00:00<00:00,  5.45it/s]\n"
     ]
    },
    {
     "name": "stdout",
     "output_type": "stream",
     "text": [
      "epoch = 66,   loss = 0.3710906505584717\n"
     ]
    },
    {
     "name": "stderr",
     "output_type": "stream",
     "text": [
      "100%|██████████| 3/3 [00:00<00:00,  5.43it/s]\n",
      "100%|██████████| 3/3 [00:00<00:00,  5.41it/s]\n"
     ]
    },
    {
     "name": "stdout",
     "output_type": "stream",
     "text": [
      "epoch = 67,   loss = 0.10249210894107819\n"
     ]
    },
    {
     "name": "stderr",
     "output_type": "stream",
     "text": [
      "100%|██████████| 3/3 [00:00<00:00,  5.42it/s]\n",
      "100%|██████████| 3/3 [00:00<00:00,  5.45it/s]\n"
     ]
    },
    {
     "name": "stdout",
     "output_type": "stream",
     "text": [
      "epoch = 68,   loss = 0.2189594954252243\n"
     ]
    },
    {
     "name": "stderr",
     "output_type": "stream",
     "text": [
      "100%|██████████| 3/3 [00:00<00:00,  5.46it/s]\n",
      "100%|██████████| 3/3 [00:00<00:00,  5.41it/s]\n"
     ]
    },
    {
     "name": "stdout",
     "output_type": "stream",
     "text": [
      "epoch = 69,   loss = 0.14755356311798096\n"
     ]
    },
    {
     "name": "stderr",
     "output_type": "stream",
     "text": [
      "100%|██████████| 3/3 [00:00<00:00,  5.42it/s]\n",
      "100%|██████████| 3/3 [00:00<00:00,  5.46it/s]\n"
     ]
    },
    {
     "name": "stdout",
     "output_type": "stream",
     "text": [
      "epoch = 70,   loss = 0.12264934182167053\n"
     ]
    },
    {
     "name": "stderr",
     "output_type": "stream",
     "text": [
      "100%|██████████| 3/3 [00:00<00:00,  5.42it/s]\n",
      "100%|██████████| 3/3 [00:00<00:00,  5.43it/s]\n"
     ]
    },
    {
     "name": "stdout",
     "output_type": "stream",
     "text": [
      "epoch = 71,   loss = 0.2094680666923523\n"
     ]
    },
    {
     "name": "stderr",
     "output_type": "stream",
     "text": [
      "100%|██████████| 3/3 [00:00<00:00,  5.45it/s]\n",
      "100%|██████████| 3/3 [00:00<00:00,  5.48it/s]\n"
     ]
    },
    {
     "name": "stdout",
     "output_type": "stream",
     "text": [
      "epoch = 72,   loss = 0.16674120724201202\n"
     ]
    },
    {
     "name": "stderr",
     "output_type": "stream",
     "text": [
      "100%|██████████| 3/3 [00:00<00:00,  5.41it/s]\n",
      "100%|██████████| 3/3 [00:00<00:00,  5.43it/s]\n"
     ]
    },
    {
     "name": "stdout",
     "output_type": "stream",
     "text": [
      "epoch = 73,   loss = 0.11677742004394531\n"
     ]
    },
    {
     "name": "stderr",
     "output_type": "stream",
     "text": [
      "100%|██████████| 3/3 [00:00<00:00,  5.44it/s]\n",
      "100%|██████████| 3/3 [00:00<00:00,  5.44it/s]\n"
     ]
    },
    {
     "name": "stdout",
     "output_type": "stream",
     "text": [
      "epoch = 74,   loss = 0.2057114839553833\n"
     ]
    },
    {
     "name": "stderr",
     "output_type": "stream",
     "text": [
      "100%|██████████| 3/3 [00:00<00:00,  5.46it/s]\n",
      "100%|██████████| 3/3 [00:00<00:00,  5.48it/s]\n"
     ]
    },
    {
     "name": "stdout",
     "output_type": "stream",
     "text": [
      "epoch = 75,   loss = 0.24754926562309265\n"
     ]
    },
    {
     "name": "stderr",
     "output_type": "stream",
     "text": [
      "100%|██████████| 3/3 [00:00<00:00,  5.43it/s]\n",
      "100%|██████████| 3/3 [00:00<00:00,  5.46it/s]\n"
     ]
    },
    {
     "name": "stdout",
     "output_type": "stream",
     "text": [
      "epoch = 76,   loss = 0.2734680771827698\n"
     ]
    },
    {
     "name": "stderr",
     "output_type": "stream",
     "text": [
      "100%|██████████| 3/3 [00:00<00:00,  5.45it/s]\n",
      "100%|██████████| 3/3 [00:00<00:00,  5.47it/s]\n"
     ]
    },
    {
     "name": "stdout",
     "output_type": "stream",
     "text": [
      "epoch = 77,   loss = 0.1443473994731903\n"
     ]
    },
    {
     "name": "stderr",
     "output_type": "stream",
     "text": [
      "100%|██████████| 3/3 [00:00<00:00,  5.44it/s]\n",
      "100%|██████████| 3/3 [00:00<00:00,  5.46it/s]\n"
     ]
    },
    {
     "name": "stdout",
     "output_type": "stream",
     "text": [
      "epoch = 78,   loss = 0.13450971245765686\n"
     ]
    },
    {
     "name": "stderr",
     "output_type": "stream",
     "text": [
      "100%|██████████| 3/3 [00:00<00:00,  5.44it/s]\n",
      "100%|██████████| 3/3 [00:00<00:00,  5.44it/s]\n"
     ]
    },
    {
     "name": "stdout",
     "output_type": "stream",
     "text": [
      "epoch = 79,   loss = 0.19371366500854492\n"
     ]
    },
    {
     "name": "stderr",
     "output_type": "stream",
     "text": [
      "100%|██████████| 3/3 [00:00<00:00,  5.41it/s]\n",
      "100%|██████████| 3/3 [00:00<00:00,  5.45it/s]\n"
     ]
    },
    {
     "name": "stdout",
     "output_type": "stream",
     "text": [
      "epoch = 80,   loss = 0.1469680666923523\n"
     ]
    },
    {
     "name": "stderr",
     "output_type": "stream",
     "text": [
      "100%|██████████| 3/3 [00:00<00:00,  5.43it/s]\n",
      "100%|██████████| 3/3 [00:00<00:00,  5.44it/s]\n"
     ]
    },
    {
     "name": "stdout",
     "output_type": "stream",
     "text": [
      "epoch = 81,   loss = 0.139224112033844\n"
     ]
    },
    {
     "name": "stderr",
     "output_type": "stream",
     "text": [
      "100%|██████████| 3/3 [00:00<00:00,  5.42it/s]\n",
      "100%|██████████| 3/3 [00:00<00:00,  5.41it/s]\n"
     ]
    },
    {
     "name": "stdout",
     "output_type": "stream",
     "text": [
      "epoch = 82,   loss = 0.2021755576133728\n"
     ]
    },
    {
     "name": "stderr",
     "output_type": "stream",
     "text": [
      "100%|██████████| 3/3 [00:00<00:00,  5.44it/s]\n",
      "100%|██████████| 3/3 [00:00<00:00,  5.47it/s]\n"
     ]
    },
    {
     "name": "stdout",
     "output_type": "stream",
     "text": [
      "epoch = 83,   loss = 0.16773508489131927\n"
     ]
    },
    {
     "name": "stderr",
     "output_type": "stream",
     "text": [
      "100%|██████████| 3/3 [00:00<00:00,  5.45it/s]\n",
      "100%|██████████| 3/3 [00:00<00:00,  5.47it/s]\n"
     ]
    },
    {
     "name": "stdout",
     "output_type": "stream",
     "text": [
      "epoch = 84,   loss = 0.13778889179229736\n"
     ]
    },
    {
     "name": "stderr",
     "output_type": "stream",
     "text": [
      "100%|██████████| 3/3 [00:00<00:00,  5.41it/s]\n",
      "100%|██████████| 3/3 [00:00<00:00,  5.45it/s]\n"
     ]
    },
    {
     "name": "stdout",
     "output_type": "stream",
     "text": [
      "epoch = 85,   loss = 0.08358269929885864\n"
     ]
    },
    {
     "name": "stderr",
     "output_type": "stream",
     "text": [
      "100%|██████████| 3/3 [00:00<00:00,  5.44it/s]\n",
      "100%|██████████| 3/3 [00:00<00:00,  5.45it/s]\n"
     ]
    },
    {
     "name": "stdout",
     "output_type": "stream",
     "text": [
      "epoch = 86,   loss = 0.1272839605808258\n"
     ]
    },
    {
     "name": "stderr",
     "output_type": "stream",
     "text": [
      "100%|██████████| 3/3 [00:00<00:00,  5.45it/s]\n",
      "100%|██████████| 3/3 [00:00<00:00,  5.45it/s]\n"
     ]
    },
    {
     "name": "stdout",
     "output_type": "stream",
     "text": [
      "epoch = 87,   loss = 0.17155925929546356\n"
     ]
    },
    {
     "name": "stderr",
     "output_type": "stream",
     "text": [
      "100%|██████████| 3/3 [00:00<00:00,  5.36it/s]\n",
      "100%|██████████| 3/3 [00:00<00:00,  5.46it/s]\n"
     ]
    },
    {
     "name": "stdout",
     "output_type": "stream",
     "text": [
      "epoch = 88,   loss = 0.1859339326620102\n"
     ]
    },
    {
     "name": "stderr",
     "output_type": "stream",
     "text": [
      "100%|██████████| 3/3 [00:00<00:00,  5.45it/s]\n",
      "100%|██████████| 3/3 [00:00<00:00,  5.46it/s]\n"
     ]
    },
    {
     "name": "stdout",
     "output_type": "stream",
     "text": [
      "epoch = 89,   loss = 0.1567678302526474\n"
     ]
    },
    {
     "name": "stderr",
     "output_type": "stream",
     "text": [
      "100%|██████████| 3/3 [00:00<00:00,  5.48it/s]\n",
      "100%|██████████| 3/3 [00:00<00:00,  5.48it/s]\n"
     ]
    },
    {
     "name": "stdout",
     "output_type": "stream",
     "text": [
      "epoch = 90,   loss = 0.15281909704208374\n"
     ]
    },
    {
     "name": "stderr",
     "output_type": "stream",
     "text": [
      "100%|██████████| 3/3 [00:00<00:00,  5.42it/s]\n",
      "100%|██████████| 3/3 [00:00<00:00,  5.45it/s]\n"
     ]
    },
    {
     "name": "stdout",
     "output_type": "stream",
     "text": [
      "epoch = 91,   loss = 0.2104598879814148\n"
     ]
    },
    {
     "name": "stderr",
     "output_type": "stream",
     "text": [
      "100%|██████████| 3/3 [00:00<00:00,  5.46it/s]\n",
      "100%|██████████| 3/3 [00:00<00:00,  5.46it/s]\n"
     ]
    },
    {
     "name": "stdout",
     "output_type": "stream",
     "text": [
      "epoch = 92,   loss = 0.35043400526046753\n"
     ]
    },
    {
     "name": "stderr",
     "output_type": "stream",
     "text": [
      "100%|██████████| 3/3 [00:00<00:00,  5.43it/s]\n",
      "100%|██████████| 3/3 [00:00<00:00,  5.44it/s]\n"
     ]
    },
    {
     "name": "stdout",
     "output_type": "stream",
     "text": [
      "epoch = 93,   loss = 0.23906472325325012\n"
     ]
    },
    {
     "name": "stderr",
     "output_type": "stream",
     "text": [
      "100%|██████████| 3/3 [00:00<00:00,  5.45it/s]\n",
      "100%|██████████| 3/3 [00:00<00:00,  5.46it/s]\n"
     ]
    },
    {
     "name": "stdout",
     "output_type": "stream",
     "text": [
      "epoch = 94,   loss = 0.14752280712127686\n"
     ]
    },
    {
     "name": "stderr",
     "output_type": "stream",
     "text": [
      "100%|██████████| 3/3 [00:00<00:00,  5.45it/s]\n",
      "100%|██████████| 3/3 [00:00<00:00,  5.46it/s]\n"
     ]
    },
    {
     "name": "stdout",
     "output_type": "stream",
     "text": [
      "epoch = 95,   loss = 0.14278890192508698\n"
     ]
    },
    {
     "name": "stderr",
     "output_type": "stream",
     "text": [
      "100%|██████████| 3/3 [00:00<00:00,  5.45it/s]\n",
      "100%|██████████| 3/3 [00:00<00:00,  5.41it/s]\n",
      "Potential NSFW content was detected in one or more images. A black image will be returned instead. Try again with a different prompt and/or seed.\n"
     ]
    },
    {
     "name": "stdout",
     "output_type": "stream",
     "text": [
      "epoch = 96,   loss = 0.2007046639919281\n"
     ]
    },
    {
     "name": "stderr",
     "output_type": "stream",
     "text": [
      "100%|██████████| 3/3 [00:00<00:00,  5.41it/s]\n",
      "100%|██████████| 3/3 [00:00<00:00,  5.43it/s]\n"
     ]
    },
    {
     "name": "stdout",
     "output_type": "stream",
     "text": [
      "epoch = 97,   loss = 0.13306523859500885\n"
     ]
    },
    {
     "name": "stderr",
     "output_type": "stream",
     "text": [
      "100%|██████████| 3/3 [00:00<00:00,  5.44it/s]\n",
      "100%|██████████| 3/3 [00:00<00:00,  5.46it/s]\n"
     ]
    },
    {
     "name": "stdout",
     "output_type": "stream",
     "text": [
      "epoch = 98,   loss = 0.3090261220932007\n"
     ]
    },
    {
     "name": "stderr",
     "output_type": "stream",
     "text": [
      "100%|██████████| 3/3 [00:00<00:00,  5.44it/s]\n",
      "100%|██████████| 3/3 [00:00<00:00,  5.46it/s]\n"
     ]
    },
    {
     "name": "stdout",
     "output_type": "stream",
     "text": [
      "epoch = 99,   loss = 0.24933069944381714\n"
     ]
    },
    {
     "name": "stderr",
     "output_type": "stream",
     "text": [
      "100%|██████████| 3/3 [00:00<00:00,  5.45it/s]\n",
      "100%|██████████| 3/3 [00:00<00:00,  5.46it/s]\n"
     ]
    },
    {
     "name": "stdout",
     "output_type": "stream",
     "text": [
      "epoch = 100,   loss = 0.1519508957862854\n"
     ]
    },
    {
     "name": "stderr",
     "output_type": "stream",
     "text": [
      "100%|██████████| 3/3 [00:00<00:00,  5.47it/s]\n",
      "100%|██████████| 3/3 [00:00<00:00,  5.48it/s]\n"
     ]
    },
    {
     "name": "stdout",
     "output_type": "stream",
     "text": [
      "epoch = 101,   loss = 0.17094089090824127\n"
     ]
    },
    {
     "name": "stderr",
     "output_type": "stream",
     "text": [
      "100%|██████████| 3/3 [00:00<00:00,  5.46it/s]\n",
      "100%|██████████| 3/3 [00:00<00:00,  5.47it/s]\n"
     ]
    },
    {
     "name": "stdout",
     "output_type": "stream",
     "text": [
      "epoch = 102,   loss = 0.22653347253799438\n"
     ]
    },
    {
     "name": "stderr",
     "output_type": "stream",
     "text": [
      "100%|██████████| 3/3 [00:00<00:00,  5.42it/s]\n",
      "100%|██████████| 3/3 [00:00<00:00,  5.45it/s]\n"
     ]
    },
    {
     "name": "stdout",
     "output_type": "stream",
     "text": [
      "epoch = 103,   loss = 0.1997925341129303\n"
     ]
    },
    {
     "name": "stderr",
     "output_type": "stream",
     "text": [
      "100%|██████████| 3/3 [00:00<00:00,  5.46it/s]\n",
      "100%|██████████| 3/3 [00:00<00:00,  5.45it/s]\n"
     ]
    },
    {
     "name": "stdout",
     "output_type": "stream",
     "text": [
      "epoch = 104,   loss = 0.37000709772109985\n"
     ]
    },
    {
     "name": "stderr",
     "output_type": "stream",
     "text": [
      "100%|██████████| 3/3 [00:00<00:00,  5.46it/s]\n",
      "100%|██████████| 3/3 [00:00<00:00,  5.46it/s]\n"
     ]
    },
    {
     "name": "stdout",
     "output_type": "stream",
     "text": [
      "epoch = 105,   loss = 0.23403209447860718\n"
     ]
    },
    {
     "name": "stderr",
     "output_type": "stream",
     "text": [
      "100%|██████████| 3/3 [00:00<00:00,  5.47it/s]\n",
      "100%|██████████| 3/3 [00:00<00:00,  5.47it/s]\n"
     ]
    },
    {
     "name": "stdout",
     "output_type": "stream",
     "text": [
      "epoch = 106,   loss = 0.13543325662612915\n"
     ]
    },
    {
     "name": "stderr",
     "output_type": "stream",
     "text": [
      "100%|██████████| 3/3 [00:00<00:00,  5.48it/s]\n",
      "100%|██████████| 3/3 [00:00<00:00,  5.47it/s]\n"
     ]
    },
    {
     "name": "stdout",
     "output_type": "stream",
     "text": [
      "epoch = 107,   loss = 0.13040152192115784\n"
     ]
    },
    {
     "name": "stderr",
     "output_type": "stream",
     "text": [
      "100%|██████████| 3/3 [00:00<00:00,  5.47it/s]\n",
      "100%|██████████| 3/3 [00:00<00:00,  5.47it/s]\n"
     ]
    },
    {
     "name": "stdout",
     "output_type": "stream",
     "text": [
      "epoch = 108,   loss = 0.1282493621110916\n"
     ]
    },
    {
     "name": "stderr",
     "output_type": "stream",
     "text": [
      "100%|██████████| 3/3 [00:00<00:00,  5.42it/s]\n",
      "100%|██████████| 3/3 [00:00<00:00,  5.47it/s]\n"
     ]
    },
    {
     "name": "stdout",
     "output_type": "stream",
     "text": [
      "epoch = 109,   loss = 0.18552163243293762\n"
     ]
    },
    {
     "name": "stderr",
     "output_type": "stream",
     "text": [
      "100%|██████████| 3/3 [00:00<00:00,  5.44it/s]\n",
      "100%|██████████| 3/3 [00:00<00:00,  5.44it/s]\n"
     ]
    },
    {
     "name": "stdout",
     "output_type": "stream",
     "text": [
      "epoch = 110,   loss = 0.3406878113746643\n"
     ]
    },
    {
     "name": "stderr",
     "output_type": "stream",
     "text": [
      "100%|██████████| 3/3 [00:00<00:00,  5.42it/s]\n",
      "100%|██████████| 3/3 [00:00<00:00,  5.42it/s]\n"
     ]
    },
    {
     "name": "stdout",
     "output_type": "stream",
     "text": [
      "epoch = 111,   loss = 0.22372519969940186\n"
     ]
    },
    {
     "name": "stderr",
     "output_type": "stream",
     "text": [
      "100%|██████████| 3/3 [00:00<00:00,  5.44it/s]\n",
      "100%|██████████| 3/3 [00:00<00:00,  5.44it/s]\n"
     ]
    },
    {
     "name": "stdout",
     "output_type": "stream",
     "text": [
      "epoch = 112,   loss = 0.18465656042099\n"
     ]
    },
    {
     "name": "stderr",
     "output_type": "stream",
     "text": [
      "100%|██████████| 3/3 [00:00<00:00,  5.45it/s]\n",
      "100%|██████████| 3/3 [00:00<00:00,  5.46it/s]\n"
     ]
    },
    {
     "name": "stdout",
     "output_type": "stream",
     "text": [
      "epoch = 113,   loss = 0.16970984637737274\n"
     ]
    },
    {
     "name": "stderr",
     "output_type": "stream",
     "text": [
      "100%|██████████| 3/3 [00:00<00:00,  5.43it/s]\n",
      "100%|██████████| 3/3 [00:00<00:00,  5.44it/s]\n"
     ]
    },
    {
     "name": "stdout",
     "output_type": "stream",
     "text": [
      "epoch = 114,   loss = 0.2937772274017334\n"
     ]
    },
    {
     "name": "stderr",
     "output_type": "stream",
     "text": [
      "100%|██████████| 3/3 [00:00<00:00,  5.37it/s]\n",
      "100%|██████████| 3/3 [00:00<00:00,  5.43it/s]\n"
     ]
    },
    {
     "name": "stdout",
     "output_type": "stream",
     "text": [
      "epoch = 115,   loss = 0.13253435492515564\n"
     ]
    },
    {
     "name": "stderr",
     "output_type": "stream",
     "text": [
      "100%|██████████| 3/3 [00:00<00:00,  5.44it/s]\n",
      "100%|██████████| 3/3 [00:00<00:00,  5.44it/s]\n"
     ]
    },
    {
     "name": "stdout",
     "output_type": "stream",
     "text": [
      "epoch = 116,   loss = 0.13917070627212524\n"
     ]
    },
    {
     "name": "stderr",
     "output_type": "stream",
     "text": [
      "100%|██████████| 3/3 [00:00<00:00,  5.42it/s]\n",
      "100%|██████████| 3/3 [00:00<00:00,  5.44it/s]\n"
     ]
    },
    {
     "name": "stdout",
     "output_type": "stream",
     "text": [
      "epoch = 117,   loss = 0.27439814805984497\n"
     ]
    },
    {
     "name": "stderr",
     "output_type": "stream",
     "text": [
      "100%|██████████| 3/3 [00:00<00:00,  5.45it/s]\n",
      "100%|██████████| 3/3 [00:00<00:00,  5.45it/s]\n"
     ]
    },
    {
     "name": "stdout",
     "output_type": "stream",
     "text": [
      "epoch = 118,   loss = 0.14996345341205597\n"
     ]
    },
    {
     "name": "stderr",
     "output_type": "stream",
     "text": [
      "100%|██████████| 3/3 [00:00<00:00,  5.46it/s]\n",
      "100%|██████████| 3/3 [00:00<00:00,  5.48it/s]\n"
     ]
    },
    {
     "name": "stdout",
     "output_type": "stream",
     "text": [
      "epoch = 119,   loss = 0.1807621866464615\n"
     ]
    },
    {
     "name": "stderr",
     "output_type": "stream",
     "text": [
      "100%|██████████| 3/3 [00:00<00:00,  5.46it/s]\n",
      "100%|██████████| 3/3 [00:00<00:00,  5.46it/s]\n"
     ]
    },
    {
     "name": "stdout",
     "output_type": "stream",
     "text": [
      "epoch = 120,   loss = 0.35727038979530334\n"
     ]
    },
    {
     "name": "stderr",
     "output_type": "stream",
     "text": [
      "100%|██████████| 3/3 [00:00<00:00,  5.40it/s]\n",
      "100%|██████████| 3/3 [00:00<00:00,  5.44it/s]\n"
     ]
    },
    {
     "name": "stdout",
     "output_type": "stream",
     "text": [
      "epoch = 121,   loss = 0.09093843400478363\n"
     ]
    },
    {
     "name": "stderr",
     "output_type": "stream",
     "text": [
      "100%|██████████| 3/3 [00:00<00:00,  5.43it/s]\n",
      "100%|██████████| 3/3 [00:00<00:00,  5.46it/s]\n"
     ]
    },
    {
     "name": "stdout",
     "output_type": "stream",
     "text": [
      "epoch = 122,   loss = 0.14115747809410095\n"
     ]
    },
    {
     "name": "stderr",
     "output_type": "stream",
     "text": [
      "100%|██████████| 3/3 [00:00<00:00,  5.44it/s]\n",
      "100%|██████████| 3/3 [00:00<00:00,  5.40it/s]\n"
     ]
    },
    {
     "name": "stdout",
     "output_type": "stream",
     "text": [
      "epoch = 123,   loss = 0.2140648066997528\n"
     ]
    },
    {
     "name": "stderr",
     "output_type": "stream",
     "text": [
      "100%|██████████| 3/3 [00:00<00:00,  5.45it/s]\n",
      "100%|██████████| 3/3 [00:00<00:00,  5.46it/s]\n"
     ]
    },
    {
     "name": "stdout",
     "output_type": "stream",
     "text": [
      "epoch = 124,   loss = 0.1124577447772026\n"
     ]
    },
    {
     "name": "stderr",
     "output_type": "stream",
     "text": [
      "100%|██████████| 3/3 [00:00<00:00,  5.44it/s]\n",
      "100%|██████████| 3/3 [00:00<00:00,  5.46it/s]\n"
     ]
    },
    {
     "name": "stdout",
     "output_type": "stream",
     "text": [
      "epoch = 125,   loss = 0.4307289719581604\n"
     ]
    },
    {
     "name": "stderr",
     "output_type": "stream",
     "text": [
      "100%|██████████| 3/3 [00:00<00:00,  5.43it/s]\n",
      "100%|██████████| 3/3 [00:00<00:00,  5.43it/s]\n"
     ]
    },
    {
     "name": "stdout",
     "output_type": "stream",
     "text": [
      "epoch = 126,   loss = 0.1635945439338684\n"
     ]
    },
    {
     "name": "stderr",
     "output_type": "stream",
     "text": [
      "100%|██████████| 3/3 [00:00<00:00,  5.41it/s]\n",
      "100%|██████████| 3/3 [00:00<00:00,  5.46it/s]\n"
     ]
    },
    {
     "name": "stdout",
     "output_type": "stream",
     "text": [
      "epoch = 127,   loss = 0.24558207392692566\n"
     ]
    },
    {
     "name": "stderr",
     "output_type": "stream",
     "text": [
      "100%|██████████| 3/3 [00:00<00:00,  5.45it/s]\n",
      "100%|██████████| 3/3 [00:00<00:00,  5.47it/s]\n"
     ]
    },
    {
     "name": "stdout",
     "output_type": "stream",
     "text": [
      "epoch = 128,   loss = 0.23026128113269806\n"
     ]
    },
    {
     "name": "stderr",
     "output_type": "stream",
     "text": [
      "100%|██████████| 3/3 [00:00<00:00,  5.44it/s]\n",
      "100%|██████████| 3/3 [00:00<00:00,  5.41it/s]\n"
     ]
    },
    {
     "name": "stdout",
     "output_type": "stream",
     "text": [
      "epoch = 129,   loss = 0.29804089665412903\n"
     ]
    },
    {
     "name": "stderr",
     "output_type": "stream",
     "text": [
      "100%|██████████| 3/3 [00:00<00:00,  5.43it/s]\n",
      "100%|██████████| 3/3 [00:00<00:00,  5.44it/s]\n"
     ]
    },
    {
     "name": "stdout",
     "output_type": "stream",
     "text": [
      "epoch = 130,   loss = 0.133924201130867\n"
     ]
    },
    {
     "name": "stderr",
     "output_type": "stream",
     "text": [
      "100%|██████████| 3/3 [00:00<00:00,  5.44it/s]\n",
      "100%|██████████| 3/3 [00:00<00:00,  5.48it/s]\n"
     ]
    },
    {
     "name": "stdout",
     "output_type": "stream",
     "text": [
      "epoch = 131,   loss = 0.20426294207572937\n"
     ]
    },
    {
     "name": "stderr",
     "output_type": "stream",
     "text": [
      "100%|██████████| 3/3 [00:00<00:00,  5.41it/s]\n",
      "100%|██████████| 3/3 [00:00<00:00,  5.44it/s]\n"
     ]
    },
    {
     "name": "stdout",
     "output_type": "stream",
     "text": [
      "epoch = 132,   loss = 0.1866803914308548\n"
     ]
    },
    {
     "name": "stderr",
     "output_type": "stream",
     "text": [
      "100%|██████████| 3/3 [00:00<00:00,  5.40it/s]\n",
      "100%|██████████| 3/3 [00:00<00:00,  5.45it/s]\n"
     ]
    },
    {
     "name": "stdout",
     "output_type": "stream",
     "text": [
      "epoch = 133,   loss = 0.2437935471534729\n"
     ]
    },
    {
     "name": "stderr",
     "output_type": "stream",
     "text": [
      "100%|██████████| 3/3 [00:00<00:00,  5.42it/s]\n",
      "100%|██████████| 3/3 [00:00<00:00,  5.43it/s]\n"
     ]
    },
    {
     "name": "stdout",
     "output_type": "stream",
     "text": [
      "epoch = 134,   loss = 0.154606431722641\n"
     ]
    },
    {
     "name": "stderr",
     "output_type": "stream",
     "text": [
      "100%|██████████| 3/3 [00:00<00:00,  5.44it/s]\n",
      "100%|██████████| 3/3 [00:00<00:00,  5.45it/s]\n"
     ]
    },
    {
     "name": "stdout",
     "output_type": "stream",
     "text": [
      "epoch = 135,   loss = 0.1342814862728119\n"
     ]
    },
    {
     "name": "stderr",
     "output_type": "stream",
     "text": [
      "100%|██████████| 3/3 [00:00<00:00,  5.43it/s]\n",
      "100%|██████████| 3/3 [00:00<00:00,  5.44it/s]\n",
      "Potential NSFW content was detected in one or more images. A black image will be returned instead. Try again with a different prompt and/or seed.\n"
     ]
    },
    {
     "name": "stdout",
     "output_type": "stream",
     "text": [
      "epoch = 136,   loss = 0.16524550318717957\n"
     ]
    },
    {
     "name": "stderr",
     "output_type": "stream",
     "text": [
      "100%|██████████| 3/3 [00:00<00:00,  5.46it/s]\n",
      "100%|██████████| 3/3 [00:00<00:00,  5.47it/s]\n"
     ]
    },
    {
     "name": "stdout",
     "output_type": "stream",
     "text": [
      "epoch = 137,   loss = 0.23128202557563782\n"
     ]
    },
    {
     "name": "stderr",
     "output_type": "stream",
     "text": [
      "100%|██████████| 3/3 [00:00<00:00,  5.46it/s]\n",
      "100%|██████████| 3/3 [00:00<00:00,  5.46it/s]\n"
     ]
    },
    {
     "name": "stdout",
     "output_type": "stream",
     "text": [
      "epoch = 138,   loss = 0.14308659732341766\n"
     ]
    },
    {
     "name": "stderr",
     "output_type": "stream",
     "text": [
      "100%|██████████| 3/3 [00:00<00:00,  5.43it/s]\n",
      "100%|██████████| 3/3 [00:00<00:00,  5.45it/s]\n"
     ]
    },
    {
     "name": "stdout",
     "output_type": "stream",
     "text": [
      "epoch = 139,   loss = 0.218470960855484\n"
     ]
    },
    {
     "name": "stderr",
     "output_type": "stream",
     "text": [
      "100%|██████████| 3/3 [00:00<00:00,  5.45it/s]\n",
      "100%|██████████| 3/3 [00:00<00:00,  5.46it/s]\n"
     ]
    },
    {
     "name": "stdout",
     "output_type": "stream",
     "text": [
      "epoch = 140,   loss = 0.1731594204902649\n"
     ]
    },
    {
     "name": "stderr",
     "output_type": "stream",
     "text": [
      "100%|██████████| 3/3 [00:00<00:00,  5.42it/s]\n",
      "100%|██████████| 3/3 [00:00<00:00,  5.44it/s]\n"
     ]
    },
    {
     "name": "stdout",
     "output_type": "stream",
     "text": [
      "epoch = 141,   loss = 0.16111347079277039\n"
     ]
    },
    {
     "name": "stderr",
     "output_type": "stream",
     "text": [
      "100%|██████████| 3/3 [00:00<00:00,  5.45it/s]\n",
      "100%|██████████| 3/3 [00:00<00:00,  5.46it/s]\n"
     ]
    },
    {
     "name": "stdout",
     "output_type": "stream",
     "text": [
      "epoch = 142,   loss = 0.22832834720611572\n"
     ]
    },
    {
     "name": "stderr",
     "output_type": "stream",
     "text": [
      "100%|██████████| 3/3 [00:00<00:00,  5.47it/s]\n",
      "100%|██████████| 3/3 [00:00<00:00,  5.49it/s]\n"
     ]
    },
    {
     "name": "stdout",
     "output_type": "stream",
     "text": [
      "epoch = 143,   loss = 0.14562958478927612\n"
     ]
    },
    {
     "name": "stderr",
     "output_type": "stream",
     "text": [
      "100%|██████████| 3/3 [00:00<00:00,  5.45it/s]\n",
      "100%|██████████| 3/3 [00:00<00:00,  5.46it/s]\n"
     ]
    },
    {
     "name": "stdout",
     "output_type": "stream",
     "text": [
      "epoch = 144,   loss = 0.18348601460456848\n"
     ]
    },
    {
     "name": "stderr",
     "output_type": "stream",
     "text": [
      "100%|██████████| 3/3 [00:00<00:00,  5.41it/s]\n",
      "100%|██████████| 3/3 [00:00<00:00,  5.42it/s]\n"
     ]
    },
    {
     "name": "stdout",
     "output_type": "stream",
     "text": [
      "epoch = 145,   loss = 0.07864066958427429\n",
      "=============Finish=============\n",
      "loss\n",
      "tensor(0.1577, device='cuda:0', grad_fn=<MeanBackward0>)\n",
      "tensor(0.4022, device='cuda:0', grad_fn=<MeanBackward0>)\n",
      "tensor(0.2752, device='cuda:0', grad_fn=<MeanBackward0>)\n",
      "tensor(0.1178, device='cuda:0', grad_fn=<MeanBackward0>)\n",
      "tensor(0.2707, device='cuda:0', grad_fn=<MeanBackward0>)\n",
      "tensor(0.1388, device='cuda:0', grad_fn=<MeanBackward0>)\n",
      "tensor(0.4311, device='cuda:0', grad_fn=<MeanBackward0>)\n",
      "tensor(0.3689, device='cuda:0', grad_fn=<MeanBackward0>)\n",
      "tensor(0.1792, device='cuda:0', grad_fn=<MeanBackward0>)\n",
      "tensor(0.1825, device='cuda:0', grad_fn=<MeanBackward0>)\n",
      "tensor(0.3561, device='cuda:0', grad_fn=<MeanBackward0>)\n",
      "tensor(0.2697, device='cuda:0', grad_fn=<MeanBackward0>)\n",
      "tensor(0.1869, device='cuda:0', grad_fn=<MeanBackward0>)\n",
      "tensor(0.2120, device='cuda:0', grad_fn=<MeanBackward0>)\n",
      "tensor(0.1664, device='cuda:0', grad_fn=<MeanBackward0>)\n",
      "tensor(0.1774, device='cuda:0', grad_fn=<MeanBackward0>)\n",
      "tensor(0.1105, device='cuda:0', grad_fn=<MeanBackward0>)\n",
      "tensor(0.2141, device='cuda:0', grad_fn=<MeanBackward0>)\n",
      "tensor(0.1534, device='cuda:0', grad_fn=<MeanBackward0>)\n",
      "tensor(0.2195, device='cuda:0', grad_fn=<MeanBackward0>)\n",
      "tensor(0.2026, device='cuda:0', grad_fn=<MeanBackward0>)\n",
      "tensor(0.2363, device='cuda:0', grad_fn=<MeanBackward0>)\n",
      "tensor(0.2152, device='cuda:0', grad_fn=<MeanBackward0>)\n",
      "tensor(0.1343, device='cuda:0', grad_fn=<MeanBackward0>)\n",
      "tensor(0.2009, device='cuda:0', grad_fn=<MeanBackward0>)\n",
      "tensor(0.2494, device='cuda:0', grad_fn=<MeanBackward0>)\n",
      "tensor(0.3196, device='cuda:0', grad_fn=<MeanBackward0>)\n",
      "tensor(0.1839, device='cuda:0', grad_fn=<MeanBackward0>)\n",
      "tensor(0.1141, device='cuda:0', grad_fn=<MeanBackward0>)\n",
      "tensor(0.1364, device='cuda:0', grad_fn=<MeanBackward0>)\n",
      "tensor(0.1726, device='cuda:0', grad_fn=<MeanBackward0>)\n",
      "tensor(0.2176, device='cuda:0', grad_fn=<MeanBackward0>)\n",
      "tensor(0.2664, device='cuda:0', grad_fn=<MeanBackward0>)\n",
      "tensor(0.2590, device='cuda:0', grad_fn=<MeanBackward0>)\n",
      "tensor(0.2755, device='cuda:0', grad_fn=<MeanBackward0>)\n",
      "tensor(0.2248, device='cuda:0', grad_fn=<MeanBackward0>)\n",
      "tensor(0.2012, device='cuda:0', grad_fn=<MeanBackward0>)\n",
      "tensor(0.3094, device='cuda:0', grad_fn=<MeanBackward0>)\n",
      "tensor(0.1603, device='cuda:0', grad_fn=<MeanBackward0>)\n",
      "tensor(0.1216, device='cuda:0', grad_fn=<MeanBackward0>)\n",
      "tensor(0.2348, device='cuda:0', grad_fn=<MeanBackward0>)\n",
      "tensor(0.1574, device='cuda:0', grad_fn=<MeanBackward0>)\n",
      "tensor(0.2082, device='cuda:0', grad_fn=<MeanBackward0>)\n",
      "tensor(0.1348, device='cuda:0', grad_fn=<MeanBackward0>)\n",
      "tensor(0.1476, device='cuda:0', grad_fn=<MeanBackward0>)\n",
      "tensor(0.1174, device='cuda:0', grad_fn=<MeanBackward0>)\n",
      "tensor(0.2637, device='cuda:0', grad_fn=<MeanBackward0>)\n",
      "tensor(0.1465, device='cuda:0', grad_fn=<MeanBackward0>)\n",
      "tensor(0.2233, device='cuda:0', grad_fn=<MeanBackward0>)\n",
      "tensor(0.1917, device='cuda:0', grad_fn=<MeanBackward0>)\n",
      "tensor(0.2860, device='cuda:0', grad_fn=<MeanBackward0>)\n",
      "tensor(0.1394, device='cuda:0', grad_fn=<MeanBackward0>)\n",
      "tensor(0.1311, device='cuda:0', grad_fn=<MeanBackward0>)\n",
      "tensor(0.1254, device='cuda:0', grad_fn=<MeanBackward0>)\n",
      "tensor(0.2549, device='cuda:0', grad_fn=<MeanBackward0>)\n",
      "tensor(0.2341, device='cuda:0', grad_fn=<MeanBackward0>)\n",
      "tensor(0.1257, device='cuda:0', grad_fn=<MeanBackward0>)\n",
      "tensor(0.1512, device='cuda:0', grad_fn=<MeanBackward0>)\n",
      "tensor(0.2390, device='cuda:0', grad_fn=<MeanBackward0>)\n",
      "tensor(0.1331, device='cuda:0', grad_fn=<MeanBackward0>)\n",
      "tensor(0.2159, device='cuda:0', grad_fn=<MeanBackward0>)\n",
      "tensor(0.1313, device='cuda:0', grad_fn=<MeanBackward0>)\n",
      "tensor(0.1173, device='cuda:0', grad_fn=<MeanBackward0>)\n",
      "tensor(0.1804, device='cuda:0', grad_fn=<MeanBackward0>)\n",
      "tensor(0.1078, device='cuda:0', grad_fn=<MeanBackward0>)\n",
      "tensor(0.2245, device='cuda:0', grad_fn=<MeanBackward0>)\n",
      "tensor(0.3711, device='cuda:0', grad_fn=<MeanBackward0>)\n",
      "tensor(0.1025, device='cuda:0', grad_fn=<MeanBackward0>)\n",
      "tensor(0.2190, device='cuda:0', grad_fn=<MeanBackward0>)\n",
      "tensor(0.1476, device='cuda:0', grad_fn=<MeanBackward0>)\n",
      "tensor(0.1226, device='cuda:0', grad_fn=<MeanBackward0>)\n",
      "tensor(0.2095, device='cuda:0', grad_fn=<MeanBackward0>)\n",
      "tensor(0.1667, device='cuda:0', grad_fn=<MeanBackward0>)\n",
      "tensor(0.1168, device='cuda:0', grad_fn=<MeanBackward0>)\n",
      "tensor(0.2057, device='cuda:0', grad_fn=<MeanBackward0>)\n",
      "tensor(0.2475, device='cuda:0', grad_fn=<MeanBackward0>)\n",
      "tensor(0.2735, device='cuda:0', grad_fn=<MeanBackward0>)\n",
      "tensor(0.1443, device='cuda:0', grad_fn=<MeanBackward0>)\n",
      "tensor(0.1345, device='cuda:0', grad_fn=<MeanBackward0>)\n",
      "tensor(0.1937, device='cuda:0', grad_fn=<MeanBackward0>)\n",
      "tensor(0.1470, device='cuda:0', grad_fn=<MeanBackward0>)\n",
      "tensor(0.1392, device='cuda:0', grad_fn=<MeanBackward0>)\n",
      "tensor(0.2022, device='cuda:0', grad_fn=<MeanBackward0>)\n",
      "tensor(0.1677, device='cuda:0', grad_fn=<MeanBackward0>)\n",
      "tensor(0.1378, device='cuda:0', grad_fn=<MeanBackward0>)\n",
      "tensor(0.0836, device='cuda:0', grad_fn=<MeanBackward0>)\n",
      "tensor(0.1273, device='cuda:0', grad_fn=<MeanBackward0>)\n",
      "tensor(0.1716, device='cuda:0', grad_fn=<MeanBackward0>)\n",
      "tensor(0.1859, device='cuda:0', grad_fn=<MeanBackward0>)\n",
      "tensor(0.1568, device='cuda:0', grad_fn=<MeanBackward0>)\n",
      "tensor(0.1528, device='cuda:0', grad_fn=<MeanBackward0>)\n",
      "tensor(0.2105, device='cuda:0', grad_fn=<MeanBackward0>)\n",
      "tensor(0.3504, device='cuda:0', grad_fn=<MeanBackward0>)\n",
      "tensor(0.2391, device='cuda:0', grad_fn=<MeanBackward0>)\n",
      "tensor(0.1475, device='cuda:0', grad_fn=<MeanBackward0>)\n",
      "tensor(0.1428, device='cuda:0', grad_fn=<MeanBackward0>)\n",
      "tensor(0.2007, device='cuda:0', grad_fn=<MeanBackward0>)\n",
      "tensor(0.1331, device='cuda:0', grad_fn=<MeanBackward0>)\n",
      "tensor(0.3090, device='cuda:0', grad_fn=<MeanBackward0>)\n",
      "tensor(0.2493, device='cuda:0', grad_fn=<MeanBackward0>)\n",
      "tensor(0.1520, device='cuda:0', grad_fn=<MeanBackward0>)\n",
      "tensor(0.1709, device='cuda:0', grad_fn=<MeanBackward0>)\n",
      "tensor(0.2265, device='cuda:0', grad_fn=<MeanBackward0>)\n",
      "tensor(0.1998, device='cuda:0', grad_fn=<MeanBackward0>)\n",
      "tensor(0.3700, device='cuda:0', grad_fn=<MeanBackward0>)\n",
      "tensor(0.2340, device='cuda:0', grad_fn=<MeanBackward0>)\n",
      "tensor(0.1354, device='cuda:0', grad_fn=<MeanBackward0>)\n",
      "tensor(0.1304, device='cuda:0', grad_fn=<MeanBackward0>)\n",
      "tensor(0.1282, device='cuda:0', grad_fn=<MeanBackward0>)\n",
      "tensor(0.1855, device='cuda:0', grad_fn=<MeanBackward0>)\n",
      "tensor(0.3407, device='cuda:0', grad_fn=<MeanBackward0>)\n",
      "tensor(0.2237, device='cuda:0', grad_fn=<MeanBackward0>)\n",
      "tensor(0.1847, device='cuda:0', grad_fn=<MeanBackward0>)\n",
      "tensor(0.1697, device='cuda:0', grad_fn=<MeanBackward0>)\n",
      "tensor(0.2938, device='cuda:0', grad_fn=<MeanBackward0>)\n",
      "tensor(0.1325, device='cuda:0', grad_fn=<MeanBackward0>)\n",
      "tensor(0.1392, device='cuda:0', grad_fn=<MeanBackward0>)\n",
      "tensor(0.2744, device='cuda:0', grad_fn=<MeanBackward0>)\n",
      "tensor(0.1500, device='cuda:0', grad_fn=<MeanBackward0>)\n",
      "tensor(0.1808, device='cuda:0', grad_fn=<MeanBackward0>)\n",
      "tensor(0.3573, device='cuda:0', grad_fn=<MeanBackward0>)\n",
      "tensor(0.0909, device='cuda:0', grad_fn=<MeanBackward0>)\n",
      "tensor(0.1412, device='cuda:0', grad_fn=<MeanBackward0>)\n",
      "tensor(0.2141, device='cuda:0', grad_fn=<MeanBackward0>)\n",
      "tensor(0.1125, device='cuda:0', grad_fn=<MeanBackward0>)\n",
      "tensor(0.4307, device='cuda:0', grad_fn=<MeanBackward0>)\n",
      "tensor(0.1636, device='cuda:0', grad_fn=<MeanBackward0>)\n",
      "tensor(0.2456, device='cuda:0', grad_fn=<MeanBackward0>)\n",
      "tensor(0.2303, device='cuda:0', grad_fn=<MeanBackward0>)\n",
      "tensor(0.2980, device='cuda:0', grad_fn=<MeanBackward0>)\n",
      "tensor(0.1339, device='cuda:0', grad_fn=<MeanBackward0>)\n",
      "tensor(0.2043, device='cuda:0', grad_fn=<MeanBackward0>)\n",
      "tensor(0.1867, device='cuda:0', grad_fn=<MeanBackward0>)\n",
      "tensor(0.2438, device='cuda:0', grad_fn=<MeanBackward0>)\n",
      "tensor(0.1546, device='cuda:0', grad_fn=<MeanBackward0>)\n",
      "tensor(0.1343, device='cuda:0', grad_fn=<MeanBackward0>)\n",
      "tensor(0.1652, device='cuda:0', grad_fn=<MeanBackward0>)\n",
      "tensor(0.2313, device='cuda:0', grad_fn=<MeanBackward0>)\n",
      "tensor(0.1431, device='cuda:0', grad_fn=<MeanBackward0>)\n",
      "tensor(0.2185, device='cuda:0', grad_fn=<MeanBackward0>)\n",
      "tensor(0.1732, device='cuda:0', grad_fn=<MeanBackward0>)\n",
      "tensor(0.1611, device='cuda:0', grad_fn=<MeanBackward0>)\n",
      "tensor(0.2283, device='cuda:0', grad_fn=<MeanBackward0>)\n",
      "tensor(0.1456, device='cuda:0', grad_fn=<MeanBackward0>)\n",
      "tensor(0.1835, device='cuda:0', grad_fn=<MeanBackward0>)\n",
      "tensor(0.0786, device='cuda:0', grad_fn=<MeanBackward0>)\n"
     ]
    }
   ],
   "source": [
    "loss_sum = []\n",
    "\n",
    "# print(Trigger_ids)\n",
    "# set_seed(21321)\n",
    "i=0\n",
    "# for epoch in range(num_train_epochs):\n",
    "ids1 = tokenizer(\"Bird fly over the sea\", padding=padding, return_tensors=\"pt\").to(device)\n",
    "ids2 = tokenizer(\"Dog walk on a street\", padding=padding, return_tensors=\"pt\").to(device)\n",
    "\n",
    "while True:\n",
    "    # for step, batch in enumerate(train_dataloader):\n",
    "    optimizer.zero_grad()\n",
    "\n",
    "    # prompt1 = Token2Ebd.trans_forward(device = device, text_encoder = text_encoder, trigger_ebd=Trigger_ids,text_inputs=batch[\"input_ids\"][:4].to(device))[0]\n",
    "    # prompt2 = Token2Ebd.trans_forward(device = device, text_encoder = text_encoder, trigger_ebd=Trigger_ids,text_inputs=batch[\"input_ids\"][4:].to(device))[0]\n",
    "\n",
    "    prompt1 = Token2Ebd.trans_forward(device = device, text_encoder = text_encoder, trigger_ebd=Trigger_ids,text_inputs=ids1[\"input_ids\"].to(device))[0]\n",
    "    prompt2 = Token2Ebd.trans_forward(device = device, text_encoder = text_encoder, trigger_ebd=Trigger_ids,text_inputs=ids2[\"input_ids\"].to(device))[0]\n",
    "\n",
    "\n",
    "    # tiled_tensor = tri_ids[\"input_ids\"][:, :2].expand(batch[\"input_ids\"][:2].size(0), -1)\n",
    "    # cat_ids = torch.cat((tiled_tensor.to(device), batch[\"input_ids\"][:2][:, 1:].to(device)),dim=1).to(device)\n",
    "    # # print(cat_ids)\n",
    "    # prompt2 = text_encoder(cat_ids)[0]\n",
    "\n",
    "    # print(Trigger_ids)\n",
    "    \n",
    "    # -----------------------------Text1-------------------------------\n",
    "    with StableDiffusionHooker(pipe, extract_self_attentions=True) as hooker1:\n",
    "        \n",
    "        out = pipe(num_inference_steps=3, prompt_embeds=prompt1)\n",
    "        # image_tri = out.images[0]\n",
    "        ovam_evaluator1= hooker1.get_ovam_callable(expand_size=(512,512))\n",
    "        optimized_map1 = ovam_evaluator1(prompt1[0]).squeeze()[1]#(512，512)\n",
    "        optimized_map1[(optimized_map1/optimized_map1.max())<0.4]= 0\n",
    "        # attention_map1 = optimized_map1.detach().cpu()\n",
    "    # -----------------------------Text2-------------------------------\n",
    "    with StableDiffusionHooker(pipe, extract_self_attentions=True) as hooker2:\n",
    "        \n",
    "        out = pipe(num_inference_steps=3, prompt_embeds=prompt2)\n",
    "        # image = out.images[0]\n",
    "        ovam_evaluator2= hooker2.get_ovam_callable(expand_size=(512,512))\n",
    "        optimized_map2 = ovam_evaluator2(prompt2[0]).squeeze()[1]#(512,512)\n",
    "        optimized_map2[(optimized_map2/optimized_map2.max())<0.4]= 0\n",
    "        # attention_maps2 = optimized_map2.detach().cpu()\n",
    "    # optimized map[(optimized map /optimized map.max())<0.2]= 0\n",
    "    # optimized mapl[(optimized mapl /optimized mapl.max())< 0.2]=0\n",
    "    \n",
    "    # -----------------------------Loss-------------------------------\n",
    "    loss = loss_fn(normalize(optimized_map1), normalize(optimized_map2))\n",
    "    print(\"epoch = {},   loss = {}\".format(i, loss))\n",
    "    loss_sum.append(loss)\n",
    "    loss.backward()\n",
    "    optimizer.step()\n",
    "    # scheduler.step()\n",
    "    i = i+1\n",
    "    if loss < 0.08:\n",
    "        break\n",
    "        \n",
    "    #     fig, ((ax0, ax1), (ax2, ax3)) = plt.subplots(2, 2, figsize=(4, 4))\n",
    "    #     # ax0.imshow(image_tri)\n",
    "    #     ax2.imshow(image_tri)\n",
    "    #     ax0.imshow(attention_map1, alpha=attention_map1 / attention_map1.max(), cmap='jet')\n",
    "    #     ax1.imshow(image)\n",
    "    #     ax3.imshow(image)\n",
    "    #     ax1.imshow(attention_maps2, alpha=attention_maps2/ attention_maps2.max(), cmap='jet')\n",
    "\n",
    "    #     fig.tight_layout()\n",
    "    #     break\n",
    "    # break\n",
    "    \n",
    "print(\"=============Finish=============\")\n",
    "print(\"loss\")\n",
    "for num in loss_sum:\n",
    "    print(num)"
   ]
  },
  {
   "cell_type": "code",
   "execution_count": 34,
   "metadata": {},
   "outputs": [
    {
     "name": "stdout",
     "output_type": "stream",
     "text": [
      "tensor([[[ 1.3105e-02, -6.6524e-03, -7.0741e-03, -3.1751e-03,  6.9373e-03,\n",
      "          -1.7907e-02, -1.7986e-02,  4.1264e-03,  4.4965e-03, -1.9431e-02,\n",
      "           1.2643e-02,  1.5406e-02,  1.8079e-02,  1.4881e-02,  1.4846e-02,\n",
      "           9.1689e-03, -7.2914e-03, -4.6078e-03,  7.5393e-03, -2.2431e-03,\n",
      "          -1.5681e-03,  5.0617e-03, -4.2014e-03,  8.2388e-03,  2.8974e-02,\n",
      "          -3.6011e-03, -1.9910e-02, -6.5894e-03,  1.7979e-02, -2.0565e-02,\n",
      "          -1.3869e-02,  6.1764e-03,  8.9303e-03, -8.8314e-03, -1.7428e-02,\n",
      "          -4.3941e-03, -7.7072e-03, -2.4635e-02,  4.8063e-03,  9.6524e-03,\n",
      "          -6.9085e-04, -4.7838e-03, -5.4472e-03, -1.3647e-03,  2.5461e-02,\n",
      "           2.7336e-02, -5.7666e-03,  1.3653e-02, -1.1287e-02, -1.3880e-02,\n",
      "           2.1208e-02,  1.8498e-02,  8.7364e-03,  2.2544e-02, -9.7726e-03,\n",
      "           3.0474e-02, -1.9586e-02,  1.7779e-02,  6.8509e-03,  3.0243e-02,\n",
      "          -3.8176e-03, -5.6427e-03, -4.3423e-03,  1.6260e-02, -3.2712e-03,\n",
      "           1.1289e-02,  7.4252e-03,  1.5541e-02,  2.2381e-03, -1.7454e-02,\n",
      "          -2.1708e-02, -4.7982e-04, -3.8684e-03, -1.0670e-02,  1.2900e-02,\n",
      "           2.1969e-02, -1.0015e-02, -1.9951e-03,  5.9013e-03, -3.9332e-03,\n",
      "           1.9457e-02, -1.0164e-02, -1.3272e-02, -9.9006e-03, -6.4044e-04,\n",
      "          -9.8311e-03,  7.2539e-04, -4.1306e-03,  1.1323e-02,  4.2125e-03,\n",
      "           8.2843e-03, -1.5728e-02, -1.1961e-02,  5.8028e-03, -5.5066e-03,\n",
      "           2.2312e-02,  2.2377e-02,  1.2237e-02, -1.0671e-02, -1.5341e-02,\n",
      "          -1.7536e-02, -1.4761e-02, -1.6235e-02, -1.0468e-02,  9.2644e-03,\n",
      "           6.0268e-03, -8.8956e-03, -1.2318e-02, -1.5369e-02,  2.0824e-02,\n",
      "           8.4531e-03,  1.5544e-02,  1.6267e-02,  1.0980e-02, -6.9469e-03,\n",
      "           4.4535e-03,  7.2038e-03, -5.5491e-03,  5.9330e-03, -1.1241e-02,\n",
      "          -2.2646e-02, -2.3555e-04, -7.7507e-03, -1.1119e-02,  4.6535e-03,\n",
      "           1.3123e-02, -5.1935e-03, -2.1912e-02,  4.8280e-03, -5.0893e-03,\n",
      "           7.9881e-03,  1.3824e-02,  1.0136e-02, -3.0971e-02,  2.1125e-03,\n",
      "           1.1402e-02, -1.0478e-02,  1.7761e-02,  1.9693e-02, -4.0532e-04,\n",
      "           1.4163e-04,  1.5693e-02,  3.4545e-03,  9.2274e-03,  7.7429e-03,\n",
      "           1.9479e-02,  2.0539e-02, -1.8804e-02, -5.9735e-03, -4.0856e-03,\n",
      "           4.3316e-03,  1.3383e-03,  7.0479e-03, -1.5170e-03, -1.4514e-03,\n",
      "           1.3373e-02,  6.4316e-03, -4.2565e-03, -5.9464e-03,  2.0852e-02,\n",
      "           4.6597e-03,  1.0198e-02, -9.1962e-03, -3.5707e-03,  2.6000e-02,\n",
      "          -1.2525e-02,  2.0538e-02, -5.1332e-03,  3.3707e-02, -1.5303e-02,\n",
      "          -1.0347e-03, -1.2575e-04,  1.3097e-03,  1.3956e-03, -3.1098e-02,\n",
      "           1.0842e-02, -1.6549e-02,  1.2824e-02, -3.0167e-02, -7.8813e-03,\n",
      "           2.3434e-03, -1.0855e-02,  6.1943e-03,  3.0297e-03, -7.8031e-03,\n",
      "          -1.6381e-02,  9.7600e-03,  1.6585e-02, -1.6232e-02, -2.2839e-03,\n",
      "           4.3375e-03, -3.6332e-03,  1.1294e-02, -1.6292e-02,  4.2743e-03,\n",
      "          -4.9215e-04, -6.6870e-04, -3.7754e-03, -3.7849e-02, -1.1316e-02,\n",
      "          -6.4711e-03, -2.1239e-03, -2.1267e-03, -1.0077e-02,  7.7705e-03,\n",
      "          -2.1588e-02, -1.9662e-02,  7.3020e-03,  1.4082e-02, -1.2128e-02,\n",
      "           2.2089e-02,  2.4829e-02,  2.3192e-03,  4.9900e-03, -1.2616e-02,\n",
      "          -5.3478e-03,  3.3336e-03,  8.5144e-03,  2.0506e-02, -8.6848e-03,\n",
      "           5.0611e-03, -2.1876e-03,  7.1777e-03,  5.5804e-03,  9.8145e-03,\n",
      "          -4.8141e-02, -2.3973e-02, -9.7245e-03, -2.5315e-02, -1.3867e-02,\n",
      "           1.1517e-02,  1.5109e-02,  7.9025e-03,  5.3214e-03,  7.4342e-03,\n",
      "          -1.7457e-03, -1.6595e-02,  6.4840e-03, -1.4544e-02,  2.0586e-03,\n",
      "           2.1724e-02, -4.0770e-03, -2.1724e-02,  3.8231e-03, -3.3601e-02,\n",
      "           2.9779e-02,  1.7094e-02, -5.7103e-03, -1.0258e-02,  4.9160e-03,\n",
      "          -9.5679e-03,  4.3201e-03, -1.8901e-02,  2.5376e-03, -7.1865e-03,\n",
      "          -6.2623e-04, -1.0617e-03, -4.2958e-03, -3.9996e-03, -5.9896e-04,\n",
      "          -1.6328e-02,  9.4743e-03,  1.4480e-02, -1.9578e-02,  1.4439e-02,\n",
      "           4.6184e-03,  7.5572e-03, -4.2744e-03,  5.4012e-03, -3.0677e-04,\n",
      "           6.7128e-03, -2.8953e-03, -3.9259e-03, -9.9443e-03,  4.2680e-03,\n",
      "          -5.0605e-03,  1.8148e-03,  1.2451e-03, -1.6367e-03, -2.3409e-02,\n",
      "           1.7521e-02,  1.3512e-02,  1.0038e-02, -1.2778e-02,  2.9104e-03,\n",
      "           1.5354e-02, -9.0182e-03, -2.3825e-02,  2.1056e-02,  7.8929e-03,\n",
      "           5.4598e-03,  1.7926e-02, -1.5240e-02,  2.4371e-03, -1.2331e-02,\n",
      "          -4.7183e-03, -5.2815e-04,  3.1326e-03, -2.0525e-02, -2.3569e-02,\n",
      "           1.9133e-02, -5.3276e-03, -4.8702e-03,  2.3754e-02,  1.4695e-02,\n",
      "          -6.4600e-03, -2.9321e-02, -2.4429e-02, -1.0914e-02, -1.2018e-02,\n",
      "           1.1153e-02,  8.4649e-03, -4.6790e-03,  9.4472e-03, -1.6032e-02,\n",
      "           4.9621e-04, -8.5528e-03,  6.6726e-03,  1.3891e-02,  2.0266e-03,\n",
      "          -1.8662e-03, -1.3276e-02,  9.0458e-03, -6.4711e-03,  2.1351e-02,\n",
      "           1.2015e-02, -1.7876e-02, -5.5715e-03,  3.0200e-03,  8.2340e-04,\n",
      "          -1.2485e-02,  7.8378e-03, -1.3413e-03, -2.4764e-03,  2.2856e-02,\n",
      "          -1.7161e-03,  1.8679e-02,  2.4904e-02,  1.2237e-02,  1.4626e-02,\n",
      "           9.6003e-03,  4.9272e-03,  7.6192e-03,  6.7365e-03, -1.2543e-02,\n",
      "          -1.0154e-02,  9.5076e-03, -7.7432e-03, -2.4156e-03,  2.1515e-02,\n",
      "          -1.9543e-02, -3.3154e-04,  2.7285e-03, -2.2741e-02, -1.4621e-04,\n",
      "          -2.2119e-03,  8.3459e-03,  1.5849e-02, -1.2764e-02, -1.0368e-03,\n",
      "           4.4350e-03, -6.4396e-03, -1.6080e-02,  6.8109e-04, -1.1475e-02,\n",
      "          -1.0522e-02, -8.7388e-03,  2.9506e-03, -2.7054e-04, -5.5506e-03,\n",
      "          -8.6336e-03,  1.7422e-03,  3.5873e-03, -1.0613e-02,  1.4844e-02,\n",
      "          -1.2390e-03,  6.7377e-03, -3.3347e-03, -8.3078e-03,  1.6355e-02,\n",
      "          -2.0208e-02, -2.0758e-03, -4.8486e-03,  2.4555e-02,  2.5825e-03,\n",
      "          -4.7972e-03, -3.9386e-03,  5.1301e-03,  4.6576e-03,  1.6205e-02,\n",
      "          -9.5655e-03,  3.1366e-02,  7.5294e-03, -3.3053e-03, -1.2246e-02,\n",
      "          -1.3941e-02,  1.7723e-02, -2.6340e-02, -4.7700e-03, -1.4171e-02,\n",
      "           3.9916e-03, -1.8447e-02, -1.3806e-02,  2.0426e-02, -6.1959e-03,\n",
      "           1.9747e-03,  4.1249e-03, -2.4105e-02, -4.3853e-03,  1.8870e-03,\n",
      "           9.2679e-03, -7.1196e-03,  1.9634e-02, -4.9749e-03, -1.9639e-02,\n",
      "           9.9899e-03, -7.9826e-05, -1.0672e-02, -2.2741e-02,  2.3843e-03,\n",
      "          -6.6284e-03, -8.4503e-03, -2.8877e-03,  1.4388e-02, -1.7554e-02,\n",
      "           1.1071e-02, -1.6513e-02,  1.9945e-03,  1.3000e-02, -9.2427e-03,\n",
      "           9.5275e-03, -1.8387e-02, -3.4727e-03, -5.8414e-03,  9.2148e-03,\n",
      "          -3.1100e-05,  1.4456e-02,  1.4089e-02, -5.5655e-03, -2.5287e-03,\n",
      "           5.6363e-03,  8.5151e-03,  2.0934e-03, -1.3466e-02, -9.8504e-03,\n",
      "           5.4165e-04, -2.1848e-02,  5.6674e-03,  8.3255e-03,  2.7949e-02,\n",
      "           1.5403e-02,  3.8950e-03, -2.3257e-04,  6.7556e-03, -1.1093e-02,\n",
      "           1.4927e-02, -6.5565e-04, -2.4383e-03,  1.0071e-02, -6.3334e-03,\n",
      "           7.1429e-03, -3.3178e-03,  1.0474e-02, -1.8240e-02,  2.7159e-02,\n",
      "           5.1974e-03, -1.4307e-03,  9.5261e-03, -1.0385e-02,  1.3474e-03,\n",
      "           9.4128e-03,  2.4196e-03,  1.8194e-02,  2.5092e-02,  2.0097e-02,\n",
      "           8.8995e-03,  3.2585e-03, -1.9513e-02,  4.4970e-03, -6.0996e-03,\n",
      "           4.9364e-03,  1.5455e-02, -2.5206e-02, -8.0240e-03,  1.4922e-02,\n",
      "           2.9970e-02, -2.3222e-02,  7.1951e-03, -1.5182e-02,  6.8898e-03,\n",
      "           6.5760e-03,  2.3084e-02,  2.3889e-02,  1.0077e-02,  5.0280e-03,\n",
      "          -1.0311e-02, -1.0677e-02, -1.1448e-02,  2.9654e-02,  2.4112e-03,\n",
      "          -1.7691e-02,  4.1826e-02, -4.5503e-03,  3.8863e-03,  2.6556e-02,\n",
      "          -6.4501e-03, -1.4388e-02,  1.7089e-02,  7.3553e-03,  3.7421e-03,\n",
      "           1.1343e-02, -2.2004e-02,  6.0496e-03, -1.1577e-02,  1.8155e-02,\n",
      "           1.5261e-02, -7.3262e-03,  1.5363e-02,  3.0047e-03, -1.2738e-02,\n",
      "          -1.3161e-03, -1.4514e-02,  6.1847e-03,  1.5571e-02, -9.8333e-03,\n",
      "          -6.9531e-03, -3.8888e-03, -1.6797e-02,  1.0971e-02, -2.1873e-02,\n",
      "           1.0679e-04,  2.7743e-02,  9.5536e-03, -7.8256e-03, -1.6834e-02,\n",
      "          -5.6708e-03, -8.6612e-03,  1.2058e-02,  1.6007e-02,  1.4922e-02,\n",
      "           2.3538e-03,  1.8267e-02, -1.1384e-02,  5.9700e-03,  8.6414e-03,\n",
      "           9.3421e-03, -1.3795e-02,  1.3308e-02, -4.4810e-03, -2.1545e-03,\n",
      "           2.5998e-02, -9.6256e-03,  8.7924e-03, -3.3264e-03, -2.2403e-02,\n",
      "          -1.2280e-02,  1.6292e-02, -3.9849e-02, -9.1018e-03,  1.0977e-03,\n",
      "          -9.0269e-03, -1.4153e-02, -1.1008e-02,  2.0210e-02,  1.5209e-02,\n",
      "          -1.0076e-02,  1.1341e-02, -6.7062e-03, -4.8602e-03,  1.2939e-02,\n",
      "          -1.7697e-02,  1.1144e-03,  5.5866e-03, -7.4623e-03, -6.2675e-05,\n",
      "           5.0776e-03, -9.1165e-03,  1.5380e-02, -1.0588e-02,  7.5756e-03,\n",
      "          -1.2007e-02, -1.4368e-02,  1.3652e-02, -9.8287e-03, -1.9740e-02,\n",
      "          -8.3348e-04,  7.3561e-03, -7.7995e-03,  4.1130e-03, -9.6244e-03,\n",
      "          -1.7860e-02, -1.4803e-02, -7.5459e-03,  6.1997e-03, -2.4057e-02,\n",
      "          -2.1366e-03, -1.8211e-02, -1.5485e-02,  3.5917e-03, -1.3182e-02,\n",
      "          -1.1556e-02, -7.9667e-03, -8.4283e-04,  1.0265e-02, -1.7177e-02,\n",
      "           8.8844e-03, -2.0749e-02,  1.1698e-02, -2.3272e-03,  9.2584e-03,\n",
      "           1.9810e-02, -4.7888e-03, -2.0504e-02, -1.9587e-02,  2.0955e-03,\n",
      "          -8.3146e-03,  3.0571e-02, -1.0445e-02, -1.4197e-03,  1.3454e-02,\n",
      "          -5.3172e-03,  4.5913e-03,  2.5498e-03,  1.9730e-02, -1.4366e-03,\n",
      "          -1.8571e-02, -1.9012e-03, -1.2476e-02,  6.2204e-03, -2.9082e-02,\n",
      "          -7.9287e-03, -1.1972e-02,  1.2096e-02, -5.6197e-03, -1.3554e-02,\n",
      "           2.3080e-03, -2.8268e-02,  2.2000e-02, -3.4691e-03,  4.1145e-03,\n",
      "           4.5172e-03,  2.3599e-02,  3.1952e-02,  3.8162e-02, -6.5510e-03,\n",
      "          -1.3251e-02,  1.0064e-02, -1.6154e-02, -1.4435e-02, -1.7757e-02,\n",
      "           3.4801e-02,  1.0764e-02, -9.0453e-03,  8.2868e-03,  1.8526e-02,\n",
      "          -1.4389e-02, -1.7141e-02,  6.1013e-03, -3.1659e-02,  3.8985e-03,\n",
      "           6.0452e-03,  9.1974e-03, -8.6385e-03,  2.2919e-03, -1.5261e-03,\n",
      "          -1.4789e-02,  2.1618e-02, -1.5250e-02,  1.7527e-02,  1.9829e-03,\n",
      "          -6.3447e-03, -5.1455e-03, -1.1840e-03, -2.2588e-02,  9.0311e-03,\n",
      "          -1.0706e-02, -1.0295e-02,  9.6708e-04, -7.3814e-03, -1.1750e-02,\n",
      "          -3.2214e-03, -4.7903e-03,  2.2745e-02,  6.8102e-03, -3.7446e-03,\n",
      "          -1.1011e-03,  2.0374e-02,  1.3704e-02, -8.1178e-03, -7.7877e-03,\n",
      "          -6.0333e-04,  2.8675e-03,  2.4521e-02, -8.5465e-03, -1.2474e-03,\n",
      "          -7.9923e-05,  1.5992e-02, -4.9399e-03, -2.1255e-03,  4.3587e-03,\n",
      "          -2.1569e-03, -1.9361e-02,  2.1567e-02,  1.5511e-02,  6.9332e-03,\n",
      "           1.3800e-02,  1.2382e-02, -6.7067e-03, -2.0760e-02, -5.3064e-03,\n",
      "          -7.9451e-03,  6.6726e-03, -5.7844e-03,  2.3371e-02, -2.4202e-02,\n",
      "          -6.7677e-03,  2.2461e-03, -6.6865e-03, -2.3741e-03, -5.7823e-04,\n",
      "          -7.3473e-03,  7.6395e-03, -4.7691e-03, -1.2593e-02,  1.2620e-02,\n",
      "           1.6982e-02,  3.7788e-03, -7.2137e-03, -5.9856e-03, -1.0287e-02,\n",
      "           9.3830e-03, -1.5935e-02, -3.7183e-04,  6.6950e-03,  1.0628e-03,\n",
      "           1.0753e-02,  1.2955e-02, -2.9016e-03,  2.9386e-02,  7.6504e-03,\n",
      "          -7.7141e-03,  1.6793e-02,  5.0491e-03,  5.2577e-03, -9.9890e-05,\n",
      "          -1.7812e-02,  2.2452e-04,  3.7410e-03,  2.7761e-03, -3.0029e-03,\n",
      "          -6.2644e-03,  2.4672e-02, -4.6146e-03, -1.1328e-02,  1.5677e-02,\n",
      "          -2.7199e-02, -1.6937e-02,  1.5666e-03, -1.6052e-02, -7.2881e-03,\n",
      "           1.9639e-03,  2.3290e-02,  6.0562e-03, -2.4175e-02,  8.9987e-03,\n",
      "           4.6858e-03, -7.2184e-03, -1.0619e-02]]])\n",
      "tensor([[[ 0.0011,  0.0032,  0.0003,  ..., -0.0018,  0.0003,  0.0019],\n",
      "         [ 0.0129, -0.0071, -0.0067,  ...,  0.0047, -0.0075, -0.0109],\n",
      "         [ 0.0012,  0.0077, -0.0011,  ..., -0.0015,  0.0009,  0.0052]]],\n",
      "       device='cuda:0', grad_fn=<EmbeddingBackward0>)\n"
     ]
    },
    {
     "name": "stderr",
     "output_type": "stream",
     "text": [
      "  0%|          | 0/3 [00:00<?, ?it/s]"
     ]
    },
    {
     "name": "stderr",
     "output_type": "stream",
     "text": [
      "100%|██████████| 3/3 [00:00<00:00,  5.65it/s]\n",
      "100%|██████████| 3/3 [00:00<00:00,  6.63it/s]\n"
     ]
    },
    {
     "name": "stdout",
     "output_type": "stream",
     "text": [
      "sks embedding\n",
      "torch.Size([1, 3, 768])\n",
      "after training\n",
      "torch.Size([1, 1, 768])\n",
      " cos simi(ori_trigger, train_trigger) = \n",
      "tensor([[-0.0091,  0.0456,  0.0437]], device='cuda:0', grad_fn=<SumBackward1>)\n",
      " norm(ori_trigger, train_trigger) = \n",
      "59.40351104736328\n",
      " sum(abs(ori_trigger, train_trigger) = \n",
      "1403.415771484375\n"
     ]
    },
    {
     "data": {
      "image/png": "[encoded data removed]",
      "text/plain": [
       "<Figure size 400x400 with 4 Axes>"
      ]
     },
     "metadata": {},
     "output_type": "display_data"
    }
   ],
   "source": [
    "print(Trigger_ids.detach().cpu())\n",
    "print(tri_embedding)\n",
    "# print(Trigger_ids.shape)\n",
    "Trigger_ids_end = Trigger_ids.detach()\n",
    "\n",
    "prompt1_ebd = encode_text(\"sks Bird fly over the sea\", device, tokenizer, text_encoder) # normal embd\n",
    "\n",
    "ids1 = tokenizer(\"Bird fly over the sea\", padding=padding, return_tensors=\"pt\").to(device)\n",
    "# tri_prompt1 = torch.cat((Trigger_ids_end, prompt1_ebd), dim=1) \n",
    "# prompt1 = torch.cat((prompt1_ebd[:, :1, :], Trigger_ids_end, prompt1_ebd[:, 1:, :]), dim=1) \n",
    "\n",
    "prompt1 = Token2Ebd.trans_forward(device = device, text_encoder = text_encoder, trigger_ebd=Trigger_ids_end,text_inputs=ids1[\"input_ids\"])[0]\n",
    "\n",
    "# prompt2 = Token2Ebd.trans_forward(device = device, text_encoder = text_encoder, trigger_ebd=Trigger_ids,text_inputs=batch[\"input_ids\"][:4].to(device))[0]\n",
    "\n",
    "\n",
    "with StableDiffusionHooker(pipe) as hooker:\n",
    "    out = pipe(num_inference_steps=3, prompt_embeds=prompt1)\n",
    "    image_tri = out.images[0]\n",
    "    ovam_evaluator3= hooker.get_ovam_callable(expand_size=(512,512))\n",
    "    attention_maps3 = ovam_evaluator3(prompt1[0]).squeeze().cpu()[1]#(512，512)\n",
    "    attention_maps3 = attention_maps3.detach()\n",
    "with StableDiffusionHooker(pipe) as hooker:\n",
    "    out2 = pipe(num_inference_steps=3, prompt_embeds=prompt1_ebd)\n",
    "    image = out2.images[0]\n",
    "    ovam_evaluator2= hooker.get_ovam_callable(expand_size=(512,512))\n",
    "    attention_maps2 = ovam_evaluator2(prompt1_ebd[0]).squeeze().cpu()[1]#(512，512)\n",
    "    attention_maps2 = attention_maps2.detach()\n",
    "fig, ((ax0, ax1), (ax2, ax3)) = plt.subplots(2, 2, figsize=(4, 4))\n",
    "# ax0.imshow(image_tri)\n",
    "ax2.imshow(image_tri)\n",
    "ax0.imshow(attention_maps3, alpha=attention_maps3 / attention_maps3.max(), cmap='jet')\n",
    "# ax1.imshow(image)/\n",
    "ax3.imshow(image)\n",
    "ax1.imshow(attention_maps2, alpha=attention_maps2/ attention_maps2.max(), cmap='jet')\n",
    "\n",
    "fig.tight_layout()\n",
    "L1_none = nn.L1Loss(reduction='none')\n",
    "L1_mean = nn.L1Loss(reduction='mean')\n",
    "L1_sum = nn.L1Loss(reduction='sum')\n",
    "tri_embedding = encode_text(\"sks\", device, tokenizer, text_encoder)\n",
    "print(\"sks embedding\")\n",
    "print(tri_embedding.shape)\n",
    "print(\"after training\")\n",
    "print(Trigger_ids_end.shape)\n",
    "cosine_sim = torch.nn.functional.cosine_similarity(Trigger_ids_end, tri_embedding,dim=2)\n",
    "# print(cosine_sim.shape)\n",
    "print(\" cos simi(ori_trigger, train_trigger) = \")\n",
    "print(cosine_sim)\n",
    "\n",
    "# 计算欧氏距离\n",
    "cos1 = torch.norm(Trigger_ids_end- tri_embedding )\n",
    "print(\" norm(ori_trigger, train_trigger) = \")\n",
    "print(cos1.item())\n",
    "\n",
    "# 计算曼哈顿距离\n",
    "cos2 = torch.abs(Trigger_ids_end- tri_embedding ).sum()\n",
    "print(\" sum(abs(ori_trigger, train_trigger) = \")\n",
    "print(cos2.item())\n"
   ]
  },
  {
   "cell_type": "code",
   "execution_count": null,
   "metadata": {},
   "outputs": [],
   "source": [
    "loss_sum = []\n",
    "\n",
    "for step, batch in enumerate(train_dataloader):\n",
    "# for i in range(epochs):\n",
    "    \n",
    "    optimizer.zero_grad()\n",
    "    set_seed(1234)\n",
    "    text1 = \"A cat stand on a car\"\n",
    "    text2 = \"A bird fly over building\"\n",
    "    ids1 = tokenizer(text1, padding=padding, return_tensors=\"pt\").to(device)\n",
    "    prompt1 = Token2Ebd.trans_forward(device = device, text_encoder = text_encoder, trigger_ebd=Trigger_ids,input_ids=ids1)[0]\n",
    "\n",
    "    ids2 = tokenizer(text2, padding=padding, return_tensors=\"pt\").to(device)\n",
    "    prompt2 = Token2Ebd.trans_forward(device = device, text_encoder = text_encoder, trigger_ebd=Trigger_ids,input_ids=ids2)[0]\n",
    "\n",
    "\n",
    "    # -----------------------------Text1-------------------------------\n",
    "    with StableDiffusionHooker(pipe, extract_self_attentions=True) as hooker1:\n",
    "        \n",
    "        out = pipe(num_inference_steps=3, prompt_embeds=prompt1)\n",
    "        \n",
    "        atmp1 = hooker1.get_self_attention_map()\n",
    "        ovam_evaluator1= hooker1.get_ovam_callable(expand_size=(512,512))\n",
    "        optimized_map1 = ovam_evaluator1(Trigger_ids[0]).squeeze().cpu()[1]#(512，512)\n",
    "        \n",
    "    # -----------------------------Text2-------------------------------\n",
    "    with StableDiffusionHooker(pipe, extract_self_attentions=True) as hooker2:\n",
    "        \n",
    "        out = pipe(num_inference_steps=3, prompt_embeds=prompt2)\n",
    "        atmp2 = hooker2.get_self_attention_map()\n",
    "        ovam_evaluator2= hooker2.get_ovam_callable(expand_size=(512,512))\n",
    "        optimized_map2 = ovam_evaluator2(Trigger_ids[0]).squeeze().cpu()[1]#(512,512)\n",
    "    # optimized map[(optimized map /optimized map.max())<0.2]= 0\n",
    "    # optimized mapl[(optimized mapl /optimized mapl.max())< 0.2]=0\n",
    "    \n",
    "    # -----------------------------Loss-------------------------------\n",
    "    loss = loss_fn(normalize(optimized_map1), normalize(optimized_map2))\n",
    "    # loss = loss_fn(normalize(atmp1), normalize(atmp2))\n",
    "    # print(\"epoch = {},   loss = {}\".format(i, loss))\n",
    "    loss_sum.append(loss)\n",
    "    loss.backward()\n",
    "    optimizer.step()\n",
    "    scheduler.step()\n",
    "    # if(loss>0.2):\n",
    "    #     epochs=epochs+1\n",
    "print(\"=============Finish=============\")\n",
    "print(\"loss\")\n",
    "for num in loss_sum:\n",
    "    print(num)"
   ]
  }
 ],
 "metadata": {
  "kernelspec": {
   "display_name": "Python 3",
   "language": "python",
   "name": "python3"
  },
  "language_info": {
   "codemirror_mode": {
    "name": "ipython",
    "version": 3
   },
   "file_extension": ".py",
   "mimetype": "text/x-python",
   "name": "python",
   "nbconvert_exporter": "python",
   "pygments_lexer": "ipython3",
   "version": "3.10.13"
  }
 },
 "nbformat": 4,
 "nbformat_minor": 2
}
